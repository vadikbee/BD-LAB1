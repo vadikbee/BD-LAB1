{
  "cells": [
    {
      "cell_type": "markdown",
      "metadata": {
        "id": "3zxDF1MEVCzo"
      },
      "source": [
        "# *Лабораторная работа №1*"
      ]
    },
    {
      "cell_type": "markdown",
      "metadata": {
        "id": "7TqqLzJtVMk4"
      },
      "source": [
        "## Построение бинарного классификатора (Теоретическая часть)"
      ]
    },
    {
      "cell_type": "markdown",
      "metadata": {
        "id": "EYh8az2OVuc-"
      },
      "source": [
        "Мы продолжаем работу над датасетом с данными о проданных подержанных автомобилях в Германии в 2016 году (см. https://colab.research.google.com/drive/1fl7f7-8WA5GIjZ6qghfiD_2sEaCc1DQH?usp=sharing). В рамках текущей лабораторной необходимо построить модель бинарного классификатора, который бы позволил определить была ли машина в ремонте или нет.\n"
      ]
    },
    {
      "cell_type": "markdown",
      "metadata": {
        "id": "DfqmOZCZWPiZ"
      },
      "source": [
        "Подключим все необходимые для дальнейшей работы библиотеки."
      ]
    },
    {
      "cell_type": "code",
      "execution_count": 1,
      "metadata": {
        "id": "WrHfdYCs1m-C"
      },
      "outputs": [],
      "source": [
        "import pandas as pd\n",
        "import numpy as np\n",
        "import matplotlib.pyplot as plt\n",
        "import copy\n",
        "\n",
        "from sklearn import ensemble\n",
        "from sklearn.ensemble import RandomForestClassifier\n",
        "from sklearn.metrics import accuracy_score\n",
        "from sklearn.model_selection import train_test_split\n",
        "\n",
        "from tensorflow.keras.utils import to_categorical\n",
        "from keras import models\n",
        "from keras import layers\n",
        "\n",
        "import warnings\n",
        "warnings.filterwarnings(\"ignore\")"
      ]
    },
    {
      "cell_type": "markdown",
      "metadata": {
        "id": "P-Rglg9KWYeq"
      },
      "source": [
        "Загрузим базу данных, которая была получена нами в ходе предыдущей работы, т.е. в ней уже проведена определенная работа по очистке данных (подробнее см. лаб1)."
      ]
    },
    {
      "cell_type": "code",
      "execution_count": 2,
      "metadata": {
        "id": "fJgzx_tFL0yG"
      },
      "outputs": [],
      "source": [
        "%%capture\n",
        "!wget https://www.dropbox.com/s/s1sqfsi6x7hbs28/autos_mod.csv"
      ]
    },
    {
      "cell_type": "markdown",
      "metadata": {
        "id": "TvRg1sBOWyOr"
      },
      "source": [
        "Записываем ее в датафрейм и проверим столбцы на наличие пустых значений."
      ]
    },
    {
      "cell_type": "code",
      "execution_count": 3,
      "metadata": {
        "colab": {
          "base_uri": "https://localhost:8080/",
          "height": 429
        },
        "id": "MARsKCvlKdf7",
        "outputId": "69abd4a2-7e2d-478e-f2f1-d332b2510d61"
      },
      "outputs": [
        {
          "data": {
            "text/html": [
              "<div>\n",
              "<style scoped>\n",
              "    .dataframe tbody tr th:only-of-type {\n",
              "        vertical-align: middle;\n",
              "    }\n",
              "\n",
              "    .dataframe tbody tr th {\n",
              "        vertical-align: top;\n",
              "    }\n",
              "\n",
              "    .dataframe thead th {\n",
              "        text-align: right;\n",
              "    }\n",
              "</style>\n",
              "<table border=\"1\" class=\"dataframe\">\n",
              "  <thead>\n",
              "    <tr style=\"text-align: right;\">\n",
              "      <th></th>\n",
              "      <th>0</th>\n",
              "    </tr>\n",
              "  </thead>\n",
              "  <tbody>\n",
              "    <tr>\n",
              "      <th>Unnamed: 0</th>\n",
              "      <td>False</td>\n",
              "    </tr>\n",
              "    <tr>\n",
              "      <th>price</th>\n",
              "      <td>False</td>\n",
              "    </tr>\n",
              "    <tr>\n",
              "      <th>vehicleType</th>\n",
              "      <td>True</td>\n",
              "    </tr>\n",
              "    <tr>\n",
              "      <th>yearOfRegistration</th>\n",
              "      <td>False</td>\n",
              "    </tr>\n",
              "    <tr>\n",
              "      <th>gearbox</th>\n",
              "      <td>True</td>\n",
              "    </tr>\n",
              "    <tr>\n",
              "      <th>powerPS</th>\n",
              "      <td>False</td>\n",
              "    </tr>\n",
              "    <tr>\n",
              "      <th>model</th>\n",
              "      <td>True</td>\n",
              "    </tr>\n",
              "    <tr>\n",
              "      <th>kilometer</th>\n",
              "      <td>False</td>\n",
              "    </tr>\n",
              "    <tr>\n",
              "      <th>fuelType</th>\n",
              "      <td>True</td>\n",
              "    </tr>\n",
              "    <tr>\n",
              "      <th>brand</th>\n",
              "      <td>False</td>\n",
              "    </tr>\n",
              "    <tr>\n",
              "      <th>notRepairedDamage</th>\n",
              "      <td>True</td>\n",
              "    </tr>\n",
              "  </tbody>\n",
              "</table>\n",
              "</div><br><label><b>dtype:</b> bool</label>"
            ],
            "text/plain": [
              "Unnamed: 0            False\n",
              "price                 False\n",
              "vehicleType            True\n",
              "yearOfRegistration    False\n",
              "gearbox                True\n",
              "powerPS               False\n",
              "model                  True\n",
              "kilometer             False\n",
              "fuelType               True\n",
              "brand                 False\n",
              "notRepairedDamage      True\n",
              "dtype: bool"
            ]
          },
          "execution_count": 3,
          "metadata": {},
          "output_type": "execute_result"
        }
      ],
      "source": [
        "df = pd.read_csv('autos_mod.csv', encoding='iso-8859-1')\n",
        "df.isnull().any()"
      ]
    },
    {
      "cell_type": "markdown",
      "metadata": {
        "id": "YVmFc0AFW_Zp"
      },
      "source": [
        "Удалим столбец, который возник в процессе переписывания набора данных, так как никакой полезной информации он не несет."
      ]
    },
    {
      "cell_type": "code",
      "execution_count": 4,
      "metadata": {
        "id": "Cw7f9Hw21m-M"
      },
      "outputs": [],
      "source": [
        "del df[\"Unnamed: 0\"]"
      ]
    },
    {
      "cell_type": "markdown",
      "metadata": {
        "id": "93PTyP6mXReM"
      },
      "source": [
        "Воспользуемся самым ленивым способом восстановления данных и очистим все столбцы от пустых значений, чтобы работать с исключительно неповрежденными записями."
      ]
    },
    {
      "cell_type": "code",
      "execution_count": 5,
      "metadata": {
        "id": "aT3qPEmL1m-N"
      },
      "outputs": [],
      "source": [
        "df = df.drop(df[pd.isnull(df['vehicleType'])].index)\n",
        "df = df.drop(df[pd.isnull(df['gearbox'])].index)\n",
        "df = df.drop(df[pd.isnull(df['model'])].index)\n",
        "df = df.drop(df[pd.isnull(df['fuelType'])].index)\n",
        "df = df.drop(df[pd.isnull(df['notRepairedDamage'])].index)"
      ]
    },
    {
      "cell_type": "markdown",
      "metadata": {
        "id": "VFf_lZAqXtAu"
      },
      "source": [
        "Проверим, что у нас не осталось записей с пустыми значениями."
      ]
    },
    {
      "cell_type": "code",
      "execution_count": 6,
      "metadata": {
        "colab": {
          "base_uri": "https://localhost:8080/"
        },
        "id": "tR0MkqhD2s5M",
        "outputId": "9702dac7-12f9-4a08-a93b-8ee0e2fd9a73"
      },
      "outputs": [
        {
          "name": "stdout",
          "output_type": "stream",
          "text": [
            "<class 'pandas.core.frame.DataFrame'>\n",
            "Index: 250919 entries, 2 to 329656\n",
            "Data columns (total 10 columns):\n",
            " #   Column              Non-Null Count   Dtype \n",
            "---  ------              --------------   ----- \n",
            " 0   price               250919 non-null  int64 \n",
            " 1   vehicleType         250919 non-null  object\n",
            " 2   yearOfRegistration  250919 non-null  int64 \n",
            " 3   gearbox             250919 non-null  object\n",
            " 4   powerPS             250919 non-null  int64 \n",
            " 5   model               250919 non-null  object\n",
            " 6   kilometer           250919 non-null  int64 \n",
            " 7   fuelType            250919 non-null  object\n",
            " 8   brand               250919 non-null  object\n",
            " 9   notRepairedDamage   250919 non-null  object\n",
            "dtypes: int64(4), object(6)\n",
            "memory usage: 21.1+ MB\n"
          ]
        }
      ],
      "source": [
        "df.info()"
      ]
    },
    {
      "cell_type": "markdown",
      "metadata": {
        "id": "WdLNTeJYX7nx"
      },
      "source": [
        "В нашем наборе данных достаточно большое количество полей типа object. Для того, чтобы с ними можно было работать, необходимо провести факторизацию, но сначала рассмотрим эти значения."
      ]
    },
    {
      "cell_type": "code",
      "execution_count": 7,
      "metadata": {
        "colab": {
          "base_uri": "https://localhost:8080/"
        },
        "id": "0a0eudPL1m-P",
        "outputId": "afbf3d71-26c8-4bf5-aca6-f101e2e1ab8a"
      },
      "outputs": [
        {
          "data": {
            "text/plain": [
              "array(['kleinwagen', 'limousine', 'cabrio', 'kombi', 'suv', 'bus',\n",
              "       'coupe', 'andere'], dtype=object)"
            ]
          },
          "execution_count": 7,
          "metadata": {},
          "output_type": "execute_result"
        }
      ],
      "source": [
        "df['vehicleType'].unique()"
      ]
    },
    {
      "cell_type": "code",
      "execution_count": 8,
      "metadata": {
        "colab": {
          "base_uri": "https://localhost:8080/"
        },
        "id": "7aL7d9Vi1m-Q",
        "outputId": "4621e746-9bca-49b7-d80b-ee892492333d"
      },
      "outputs": [
        {
          "data": {
            "text/plain": [
              "array(['manuell', 'automatik'], dtype=object)"
            ]
          },
          "execution_count": 8,
          "metadata": {},
          "output_type": "execute_result"
        }
      ],
      "source": [
        "df['gearbox'].unique()"
      ]
    },
    {
      "cell_type": "code",
      "execution_count": 9,
      "metadata": {
        "colab": {
          "base_uri": "https://localhost:8080/"
        },
        "id": "Lu5LpkuR1m-Q",
        "outputId": "5b5d3180-4d87-4e7a-e277-23be8720f4d8"
      },
      "outputs": [
        {
          "data": {
            "text/plain": [
              "array(['golf', 'fabia', '3er', '2_reihe', 'andere', '3_reihe', 'passat',\n",
              "       'navara', 'twingo', 'c_max', 'a_klasse', 'scirocco', '5er',\n",
              "       'arosa', 'civic', 'transporter', 'punto', 'e_klasse', 'one',\n",
              "       'clio', '1er', 'b_klasse', 'fortwo', 'a8', 'jetta', 'fiesta',\n",
              "       'c_klasse', 'micra', 'vito', 'sprinter', '156', 'escort',\n",
              "       'forester', 'scenic', 'a1', 'focus', 'tt', 'astra', 'a6', 'jazz',\n",
              "       'polo', 'slk', '7er', 'combo', '80', '147', 'glk', 'meriva',\n",
              "       'z_reihe', 'ibiza', 'mustang', 'eos', 'a4', 'touran', 'getz',\n",
              "       'insignia', 'megane', 'a3', 'lupo', 'r19', 'colt', 'corsa',\n",
              "       'vectra', 'berlingo', 'm_klasse', 'tiguan', '6_reihe', 'c4',\n",
              "       'panda', 'up', 'i_reihe', 'ceed', 'kangoo', '5_reihe', 'yeti',\n",
              "       'octavia', 'zafira', 'mii', 'rx_reihe', 'mondeo', '6er', 'fox',\n",
              "       'matiz', 'beetle', 'rio', 'touareg', 'logan', 'omega', 'cuore',\n",
              "       's_max', 'modus', 'a2', 'x_reihe', 'a5', 'galaxy', 'c3', 'viano',\n",
              "       's_klasse', 'sharan', 'avensis', 'sl', 'roomster', 'q5', 'kaefer',\n",
              "       'santa', 'leon', 'cooper', 'sportage', 'caddy', 'clk', 'primera',\n",
              "       '4_reihe', 'espace', 'exeo', 'juke', '1_reihe', 'v40', 'accord',\n",
              "       'corolla', 'grand', 'phaeton', 'boxster', 'cordoba', 'verso',\n",
              "       'swift', 'rav', 'kuga', 'qashqai', '159', 'picanto', 'stilo',\n",
              "       'alhambra', '911', 'ka', 'm_reihe', 'roadster', 'ypsilon',\n",
              "       'galant', 'impreza', 'sirion', 'signum', 'crossfire', 'agila',\n",
              "       'duster', 'sorento', 'v50', 'mx_reihe', '500', 'discovery',\n",
              "       'c_reihe', 'v_klasse', 'yaris', 'c5', 'aygo', 'almera', 'cc',\n",
              "       'bora', 'forfour', 'cl', 'tigra', '300c', 'ptcruiser', 'transit',\n",
              "       '100', 'cr_reihe', 'xc_reihe', 'spark', 'laguna', 'x_type',\n",
              "       'ducato', 's_type', 'x_trail', 'toledo', 'altea', 'voyager',\n",
              "       'carnival', 'v70', 'bravo', 'range_rover', 'carisma', 'q7', 'c1',\n",
              "       'kadett', 'citigo', 'jimny', 'cx_reihe', 'cayenne', 'wrangler',\n",
              "       'lybra', 'lancer', 'freelander', 'captiva', 'fusion',\n",
              "       'range_rover_evoque', 'sandero', 'note', 'q3', 'spider', '90',\n",
              "       'antara', 'defender', 'cherokee', 'seicento', 'clubman', 'legacy',\n",
              "       'pajero', 'c2', 'niva', 's60', '900', 'nubira', 'vivaro', 'lanos',\n",
              "       'tucson', 'g_klasse', 'auris', 'lodgy', 'range_rover_sport', '601',\n",
              "       '850', 'superb', 'justy', 'serie_2', 'calibra', 'charade', 'croma',\n",
              "       'outlander', 'gl', 'doblo', 'amarok', 'musa', '9000', 'kalos',\n",
              "       'v60', '200', 'b_max', 'delta', '145', 'aveo', 'move', 'materia',\n",
              "       'terios', 'kalina', 'elefantino', 'i3', 'samara', 'rangerover',\n",
              "       'serie_3', 'kappa', 'discovery_sport'], dtype=object)"
            ]
          },
          "execution_count": 9,
          "metadata": {},
          "output_type": "execute_result"
        }
      ],
      "source": [
        "df['model'].unique()"
      ]
    },
    {
      "cell_type": "code",
      "execution_count": 10,
      "metadata": {
        "colab": {
          "base_uri": "https://localhost:8080/"
        },
        "id": "7UhUiBt11m-Q",
        "outputId": "b29e0cfa-101e-4be9-f0e8-8b10195f2aac"
      },
      "outputs": [
        {
          "data": {
            "text/plain": [
              "array(['benzin', 'diesel', 'lpg', 'andere', 'hybrid', 'cng', 'elektro'],\n",
              "      dtype=object)"
            ]
          },
          "execution_count": 10,
          "metadata": {},
          "output_type": "execute_result"
        }
      ],
      "source": [
        "df['fuelType'].unique()"
      ]
    },
    {
      "cell_type": "code",
      "execution_count": 11,
      "metadata": {
        "colab": {
          "base_uri": "https://localhost:8080/"
        },
        "id": "FaTMZjFm1m-R",
        "outputId": "fdc20a99-0c44-4b1f-9e78-257626fa36cf"
      },
      "outputs": [
        {
          "data": {
            "text/plain": [
              "array(['nein', 'ja'], dtype=object)"
            ]
          },
          "execution_count": 11,
          "metadata": {},
          "output_type": "execute_result"
        }
      ],
      "source": [
        "df['notRepairedDamage'].unique()"
      ]
    },
    {
      "cell_type": "markdown",
      "metadata": {
        "id": "LhQsAdZHYZpf"
      },
      "source": [
        "Для поля, которое нас интересует больше всего проверим соотношение количества записей, относящихся к разным классам."
      ]
    },
    {
      "cell_type": "code",
      "execution_count": 12,
      "metadata": {
        "colab": {
          "base_uri": "https://localhost:8080/",
          "height": 178
        },
        "id": "CJG5aQ7_1m-S",
        "outputId": "9d5e6e7b-adb8-4967-da3c-48732ee96631"
      },
      "outputs": [
        {
          "data": {
            "text/html": [
              "<div>\n",
              "<style scoped>\n",
              "    .dataframe tbody tr th:only-of-type {\n",
              "        vertical-align: middle;\n",
              "    }\n",
              "\n",
              "    .dataframe tbody tr th {\n",
              "        vertical-align: top;\n",
              "    }\n",
              "\n",
              "    .dataframe thead th {\n",
              "        text-align: right;\n",
              "    }\n",
              "</style>\n",
              "<table border=\"1\" class=\"dataframe\">\n",
              "  <thead>\n",
              "    <tr style=\"text-align: right;\">\n",
              "      <th></th>\n",
              "      <th>count</th>\n",
              "    </tr>\n",
              "    <tr>\n",
              "      <th>notRepairedDamage</th>\n",
              "      <th></th>\n",
              "    </tr>\n",
              "  </thead>\n",
              "  <tbody>\n",
              "    <tr>\n",
              "      <th>nein</th>\n",
              "      <td>225322</td>\n",
              "    </tr>\n",
              "    <tr>\n",
              "      <th>ja</th>\n",
              "      <td>25597</td>\n",
              "    </tr>\n",
              "  </tbody>\n",
              "</table>\n",
              "</div><br><label><b>dtype:</b> int64</label>"
            ],
            "text/plain": [
              "notRepairedDamage\n",
              "nein    225322\n",
              "ja       25597\n",
              "Name: count, dtype: int64"
            ]
          },
          "execution_count": 12,
          "metadata": {},
          "output_type": "execute_result"
        }
      ],
      "source": [
        "df['notRepairedDamage'].value_counts()"
      ]
    },
    {
      "cell_type": "markdown",
      "metadata": {
        "id": "RPH8N4SRYnqy"
      },
      "source": [
        "Отношение 1 к 10 не является хорошим, так как обеспечивает перевес объектов одного класса. Данный момент можно попытаться обойти, уравновесив выборки по принадлежности к классам. В рамках данной методички продолжим обучение на необработанной выборке."
      ]
    },
    {
      "cell_type": "markdown",
      "metadata": {
        "id": "H8qtgmxNZSwm"
      },
      "source": [
        "Проведем факторизацию и проверим результат ее исполнения."
      ]
    },
    {
      "cell_type": "code",
      "execution_count": 13,
      "metadata": {
        "colab": {
          "base_uri": "https://localhost:8080/",
          "height": 206
        },
        "id": "xLIm61uX1m-T",
        "outputId": "d810e127-d7eb-49fc-e6e3-9331b18511e0"
      },
      "outputs": [
        {
          "data": {
            "application/vnd.google.colaboratory.intrinsic+json": {
              "type": "dataframe",
              "variable_name": "df"
            },
            "text/html": [
              "\n",
              "  <div id=\"df-ca790658-c312-4f0e-83b7-9c7cdb7a2f00\" class=\"colab-df-container\">\n",
              "    <div>\n",
              "<style scoped>\n",
              "    .dataframe tbody tr th:only-of-type {\n",
              "        vertical-align: middle;\n",
              "    }\n",
              "\n",
              "    .dataframe tbody tr th {\n",
              "        vertical-align: top;\n",
              "    }\n",
              "\n",
              "    .dataframe thead th {\n",
              "        text-align: right;\n",
              "    }\n",
              "</style>\n",
              "<table border=\"1\" class=\"dataframe\">\n",
              "  <thead>\n",
              "    <tr style=\"text-align: right;\">\n",
              "      <th></th>\n",
              "      <th>price</th>\n",
              "      <th>vehicleType</th>\n",
              "      <th>yearOfRegistration</th>\n",
              "      <th>gearbox</th>\n",
              "      <th>powerPS</th>\n",
              "      <th>model</th>\n",
              "      <th>kilometer</th>\n",
              "      <th>fuelType</th>\n",
              "      <th>brand</th>\n",
              "      <th>notRepairedDamage</th>\n",
              "    </tr>\n",
              "  </thead>\n",
              "  <tbody>\n",
              "    <tr>\n",
              "      <th>2</th>\n",
              "      <td>1500</td>\n",
              "      <td>0</td>\n",
              "      <td>2001</td>\n",
              "      <td>0</td>\n",
              "      <td>75</td>\n",
              "      <td>0</td>\n",
              "      <td>150000</td>\n",
              "      <td>0</td>\n",
              "      <td>0</td>\n",
              "      <td>0</td>\n",
              "    </tr>\n",
              "    <tr>\n",
              "      <th>3</th>\n",
              "      <td>3600</td>\n",
              "      <td>0</td>\n",
              "      <td>2008</td>\n",
              "      <td>0</td>\n",
              "      <td>69</td>\n",
              "      <td>1</td>\n",
              "      <td>90000</td>\n",
              "      <td>1</td>\n",
              "      <td>1</td>\n",
              "      <td>0</td>\n",
              "    </tr>\n",
              "    <tr>\n",
              "      <th>4</th>\n",
              "      <td>650</td>\n",
              "      <td>1</td>\n",
              "      <td>1995</td>\n",
              "      <td>0</td>\n",
              "      <td>102</td>\n",
              "      <td>2</td>\n",
              "      <td>150000</td>\n",
              "      <td>0</td>\n",
              "      <td>2</td>\n",
              "      <td>1</td>\n",
              "    </tr>\n",
              "    <tr>\n",
              "      <th>5</th>\n",
              "      <td>2200</td>\n",
              "      <td>2</td>\n",
              "      <td>2004</td>\n",
              "      <td>0</td>\n",
              "      <td>109</td>\n",
              "      <td>3</td>\n",
              "      <td>150000</td>\n",
              "      <td>0</td>\n",
              "      <td>3</td>\n",
              "      <td>0</td>\n",
              "    </tr>\n",
              "    <tr>\n",
              "      <th>6</th>\n",
              "      <td>0</td>\n",
              "      <td>1</td>\n",
              "      <td>1980</td>\n",
              "      <td>0</td>\n",
              "      <td>50</td>\n",
              "      <td>4</td>\n",
              "      <td>40000</td>\n",
              "      <td>0</td>\n",
              "      <td>0</td>\n",
              "      <td>0</td>\n",
              "    </tr>\n",
              "  </tbody>\n",
              "</table>\n",
              "</div>\n",
              "    <div class=\"colab-df-buttons\">\n",
              "\n",
              "  <div class=\"colab-df-container\">\n",
              "    <button class=\"colab-df-convert\" onclick=\"convertToInteractive('df-ca790658-c312-4f0e-83b7-9c7cdb7a2f00')\"\n",
              "            title=\"Convert this dataframe to an interactive table.\"\n",
              "            style=\"display:none;\">\n",
              "\n",
              "  <svg xmlns=\"http://www.w3.org/2000/svg\" height=\"24px\" viewBox=\"0 -960 960 960\">\n",
              "    <path d=\"M120-120v-720h720v720H120Zm60-500h600v-160H180v160Zm220 220h160v-160H400v160Zm0 220h160v-160H400v160ZM180-400h160v-160H180v160Zm440 0h160v-160H620v160ZM180-180h160v-160H180v160Zm440 0h160v-160H620v160Z\"/>\n",
              "  </svg>\n",
              "    </button>\n",
              "\n",
              "  <style>\n",
              "    .colab-df-container {\n",
              "      display:flex;\n",
              "      gap: 12px;\n",
              "    }\n",
              "\n",
              "    .colab-df-convert {\n",
              "      background-color: #E8F0FE;\n",
              "      border: none;\n",
              "      border-radius: 50%;\n",
              "      cursor: pointer;\n",
              "      display: none;\n",
              "      fill: #1967D2;\n",
              "      height: 32px;\n",
              "      padding: 0 0 0 0;\n",
              "      width: 32px;\n",
              "    }\n",
              "\n",
              "    .colab-df-convert:hover {\n",
              "      background-color: #E2EBFA;\n",
              "      box-shadow: 0px 1px 2px rgba(60, 64, 67, 0.3), 0px 1px 3px 1px rgba(60, 64, 67, 0.15);\n",
              "      fill: #174EA6;\n",
              "    }\n",
              "\n",
              "    .colab-df-buttons div {\n",
              "      margin-bottom: 4px;\n",
              "    }\n",
              "\n",
              "    [theme=dark] .colab-df-convert {\n",
              "      background-color: #3B4455;\n",
              "      fill: #D2E3FC;\n",
              "    }\n",
              "\n",
              "    [theme=dark] .colab-df-convert:hover {\n",
              "      background-color: #434B5C;\n",
              "      box-shadow: 0px 1px 3px 1px rgba(0, 0, 0, 0.15);\n",
              "      filter: drop-shadow(0px 1px 2px rgba(0, 0, 0, 0.3));\n",
              "      fill: #FFFFFF;\n",
              "    }\n",
              "  </style>\n",
              "\n",
              "    <script>\n",
              "      const buttonEl =\n",
              "        document.querySelector('#df-ca790658-c312-4f0e-83b7-9c7cdb7a2f00 button.colab-df-convert');\n",
              "      buttonEl.style.display =\n",
              "        google.colab.kernel.accessAllowed ? 'block' : 'none';\n",
              "\n",
              "      async function convertToInteractive(key) {\n",
              "        const element = document.querySelector('#df-ca790658-c312-4f0e-83b7-9c7cdb7a2f00');\n",
              "        const dataTable =\n",
              "          await google.colab.kernel.invokeFunction('convertToInteractive',\n",
              "                                                    [key], {});\n",
              "        if (!dataTable) return;\n",
              "\n",
              "        const docLinkHtml = 'Like what you see? Visit the ' +\n",
              "          '<a target=\"_blank\" href=https://colab.research.google.com/notebooks/data_table.ipynb>data table notebook</a>'\n",
              "          + ' to learn more about interactive tables.';\n",
              "        element.innerHTML = '';\n",
              "        dataTable['output_type'] = 'display_data';\n",
              "        await google.colab.output.renderOutput(dataTable, element);\n",
              "        const docLink = document.createElement('div');\n",
              "        docLink.innerHTML = docLinkHtml;\n",
              "        element.appendChild(docLink);\n",
              "      }\n",
              "    </script>\n",
              "  </div>\n",
              "\n",
              "\n",
              "<div id=\"df-c7c6ea87-9c54-4cf5-a337-b92aca0736e1\">\n",
              "  <button class=\"colab-df-quickchart\" onclick=\"quickchart('df-c7c6ea87-9c54-4cf5-a337-b92aca0736e1')\"\n",
              "            title=\"Suggest charts\"\n",
              "            style=\"display:none;\">\n",
              "\n",
              "<svg xmlns=\"http://www.w3.org/2000/svg\" height=\"24px\"viewBox=\"0 0 24 24\"\n",
              "     width=\"24px\">\n",
              "    <g>\n",
              "        <path d=\"M19 3H5c-1.1 0-2 .9-2 2v14c0 1.1.9 2 2 2h14c1.1 0 2-.9 2-2V5c0-1.1-.9-2-2-2zM9 17H7v-7h2v7zm4 0h-2V7h2v10zm4 0h-2v-4h2v4z\"/>\n",
              "    </g>\n",
              "</svg>\n",
              "  </button>\n",
              "\n",
              "<style>\n",
              "  .colab-df-quickchart {\n",
              "      --bg-color: #E8F0FE;\n",
              "      --fill-color: #1967D2;\n",
              "      --hover-bg-color: #E2EBFA;\n",
              "      --hover-fill-color: #174EA6;\n",
              "      --disabled-fill-color: #AAA;\n",
              "      --disabled-bg-color: #DDD;\n",
              "  }\n",
              "\n",
              "  [theme=dark] .colab-df-quickchart {\n",
              "      --bg-color: #3B4455;\n",
              "      --fill-color: #D2E3FC;\n",
              "      --hover-bg-color: #434B5C;\n",
              "      --hover-fill-color: #FFFFFF;\n",
              "      --disabled-bg-color: #3B4455;\n",
              "      --disabled-fill-color: #666;\n",
              "  }\n",
              "\n",
              "  .colab-df-quickchart {\n",
              "    background-color: var(--bg-color);\n",
              "    border: none;\n",
              "    border-radius: 50%;\n",
              "    cursor: pointer;\n",
              "    display: none;\n",
              "    fill: var(--fill-color);\n",
              "    height: 32px;\n",
              "    padding: 0;\n",
              "    width: 32px;\n",
              "  }\n",
              "\n",
              "  .colab-df-quickchart:hover {\n",
              "    background-color: var(--hover-bg-color);\n",
              "    box-shadow: 0 1px 2px rgba(60, 64, 67, 0.3), 0 1px 3px 1px rgba(60, 64, 67, 0.15);\n",
              "    fill: var(--button-hover-fill-color);\n",
              "  }\n",
              "\n",
              "  .colab-df-quickchart-complete:disabled,\n",
              "  .colab-df-quickchart-complete:disabled:hover {\n",
              "    background-color: var(--disabled-bg-color);\n",
              "    fill: var(--disabled-fill-color);\n",
              "    box-shadow: none;\n",
              "  }\n",
              "\n",
              "  .colab-df-spinner {\n",
              "    border: 2px solid var(--fill-color);\n",
              "    border-color: transparent;\n",
              "    border-bottom-color: var(--fill-color);\n",
              "    animation:\n",
              "      spin 1s steps(1) infinite;\n",
              "  }\n",
              "\n",
              "  @keyframes spin {\n",
              "    0% {\n",
              "      border-color: transparent;\n",
              "      border-bottom-color: var(--fill-color);\n",
              "      border-left-color: var(--fill-color);\n",
              "    }\n",
              "    20% {\n",
              "      border-color: transparent;\n",
              "      border-left-color: var(--fill-color);\n",
              "      border-top-color: var(--fill-color);\n",
              "    }\n",
              "    30% {\n",
              "      border-color: transparent;\n",
              "      border-left-color: var(--fill-color);\n",
              "      border-top-color: var(--fill-color);\n",
              "      border-right-color: var(--fill-color);\n",
              "    }\n",
              "    40% {\n",
              "      border-color: transparent;\n",
              "      border-right-color: var(--fill-color);\n",
              "      border-top-color: var(--fill-color);\n",
              "    }\n",
              "    60% {\n",
              "      border-color: transparent;\n",
              "      border-right-color: var(--fill-color);\n",
              "    }\n",
              "    80% {\n",
              "      border-color: transparent;\n",
              "      border-right-color: var(--fill-color);\n",
              "      border-bottom-color: var(--fill-color);\n",
              "    }\n",
              "    90% {\n",
              "      border-color: transparent;\n",
              "      border-bottom-color: var(--fill-color);\n",
              "    }\n",
              "  }\n",
              "</style>\n",
              "\n",
              "  <script>\n",
              "    async function quickchart(key) {\n",
              "      const quickchartButtonEl =\n",
              "        document.querySelector('#' + key + ' button');\n",
              "      quickchartButtonEl.disabled = true;  // To prevent multiple clicks.\n",
              "      quickchartButtonEl.classList.add('colab-df-spinner');\n",
              "      try {\n",
              "        const charts = await google.colab.kernel.invokeFunction(\n",
              "            'suggestCharts', [key], {});\n",
              "      } catch (error) {\n",
              "        console.error('Error during call to suggestCharts:', error);\n",
              "      }\n",
              "      quickchartButtonEl.classList.remove('colab-df-spinner');\n",
              "      quickchartButtonEl.classList.add('colab-df-quickchart-complete');\n",
              "    }\n",
              "    (() => {\n",
              "      let quickchartButtonEl =\n",
              "        document.querySelector('#df-c7c6ea87-9c54-4cf5-a337-b92aca0736e1 button');\n",
              "      quickchartButtonEl.style.display =\n",
              "        google.colab.kernel.accessAllowed ? 'block' : 'none';\n",
              "    })();\n",
              "  </script>\n",
              "</div>\n",
              "    </div>\n",
              "  </div>\n"
            ],
            "text/plain": [
              "   price  vehicleType  yearOfRegistration  gearbox  powerPS  model  kilometer  \\\n",
              "2   1500            0                2001        0       75      0     150000   \n",
              "3   3600            0                2008        0       69      1      90000   \n",
              "4    650            1                1995        0      102      2     150000   \n",
              "5   2200            2                2004        0      109      3     150000   \n",
              "6      0            1                1980        0       50      4      40000   \n",
              "\n",
              "   fuelType  brand  notRepairedDamage  \n",
              "2         0      0                  0  \n",
              "3         1      1                  0  \n",
              "4         0      2                  1  \n",
              "5         0      3                  0  \n",
              "6         0      0                  0  "
            ]
          },
          "execution_count": 13,
          "metadata": {},
          "output_type": "execute_result"
        }
      ],
      "source": [
        "names = ['vehicleType', 'gearbox', 'model', 'fuelType', 'brand', 'notRepairedDamage']\n",
        "for name in names:\n",
        "    df[name] = pd.factorize(df[name])[0]\n",
        "df.head()"
      ]
    },
    {
      "cell_type": "markdown",
      "metadata": {
        "id": "xdHLh1QsZiVo"
      },
      "source": [
        "Как мы можем видеть, в результате удаления части значений из базы данных, произошло нарушение следования индексов. В рамках нашей задачи данный аспект некритичен, но все же произведемсброс индексации."
      ]
    },
    {
      "cell_type": "code",
      "execution_count": 14,
      "metadata": {
        "colab": {
          "base_uri": "https://localhost:8080/",
          "height": 206
        },
        "id": "v6umr3jiMf-8",
        "outputId": "758c606c-ca9e-46c0-e6aa-83a728c068ba"
      },
      "outputs": [
        {
          "data": {
            "application/vnd.google.colaboratory.intrinsic+json": {
              "type": "dataframe",
              "variable_name": "df"
            },
            "text/html": [
              "\n",
              "  <div id=\"df-3928ea3d-332e-4a03-9c33-9cd793bb7321\" class=\"colab-df-container\">\n",
              "    <div>\n",
              "<style scoped>\n",
              "    .dataframe tbody tr th:only-of-type {\n",
              "        vertical-align: middle;\n",
              "    }\n",
              "\n",
              "    .dataframe tbody tr th {\n",
              "        vertical-align: top;\n",
              "    }\n",
              "\n",
              "    .dataframe thead th {\n",
              "        text-align: right;\n",
              "    }\n",
              "</style>\n",
              "<table border=\"1\" class=\"dataframe\">\n",
              "  <thead>\n",
              "    <tr style=\"text-align: right;\">\n",
              "      <th></th>\n",
              "      <th>price</th>\n",
              "      <th>vehicleType</th>\n",
              "      <th>yearOfRegistration</th>\n",
              "      <th>gearbox</th>\n",
              "      <th>powerPS</th>\n",
              "      <th>model</th>\n",
              "      <th>kilometer</th>\n",
              "      <th>fuelType</th>\n",
              "      <th>brand</th>\n",
              "      <th>notRepairedDamage</th>\n",
              "    </tr>\n",
              "  </thead>\n",
              "  <tbody>\n",
              "    <tr>\n",
              "      <th>0</th>\n",
              "      <td>1500</td>\n",
              "      <td>0</td>\n",
              "      <td>2001</td>\n",
              "      <td>0</td>\n",
              "      <td>75</td>\n",
              "      <td>0</td>\n",
              "      <td>150000</td>\n",
              "      <td>0</td>\n",
              "      <td>0</td>\n",
              "      <td>0</td>\n",
              "    </tr>\n",
              "    <tr>\n",
              "      <th>1</th>\n",
              "      <td>3600</td>\n",
              "      <td>0</td>\n",
              "      <td>2008</td>\n",
              "      <td>0</td>\n",
              "      <td>69</td>\n",
              "      <td>1</td>\n",
              "      <td>90000</td>\n",
              "      <td>1</td>\n",
              "      <td>1</td>\n",
              "      <td>0</td>\n",
              "    </tr>\n",
              "    <tr>\n",
              "      <th>2</th>\n",
              "      <td>650</td>\n",
              "      <td>1</td>\n",
              "      <td>1995</td>\n",
              "      <td>0</td>\n",
              "      <td>102</td>\n",
              "      <td>2</td>\n",
              "      <td>150000</td>\n",
              "      <td>0</td>\n",
              "      <td>2</td>\n",
              "      <td>1</td>\n",
              "    </tr>\n",
              "    <tr>\n",
              "      <th>3</th>\n",
              "      <td>2200</td>\n",
              "      <td>2</td>\n",
              "      <td>2004</td>\n",
              "      <td>0</td>\n",
              "      <td>109</td>\n",
              "      <td>3</td>\n",
              "      <td>150000</td>\n",
              "      <td>0</td>\n",
              "      <td>3</td>\n",
              "      <td>0</td>\n",
              "    </tr>\n",
              "    <tr>\n",
              "      <th>4</th>\n",
              "      <td>0</td>\n",
              "      <td>1</td>\n",
              "      <td>1980</td>\n",
              "      <td>0</td>\n",
              "      <td>50</td>\n",
              "      <td>4</td>\n",
              "      <td>40000</td>\n",
              "      <td>0</td>\n",
              "      <td>0</td>\n",
              "      <td>0</td>\n",
              "    </tr>\n",
              "  </tbody>\n",
              "</table>\n",
              "</div>\n",
              "    <div class=\"colab-df-buttons\">\n",
              "\n",
              "  <div class=\"colab-df-container\">\n",
              "    <button class=\"colab-df-convert\" onclick=\"convertToInteractive('df-3928ea3d-332e-4a03-9c33-9cd793bb7321')\"\n",
              "            title=\"Convert this dataframe to an interactive table.\"\n",
              "            style=\"display:none;\">\n",
              "\n",
              "  <svg xmlns=\"http://www.w3.org/2000/svg\" height=\"24px\" viewBox=\"0 -960 960 960\">\n",
              "    <path d=\"M120-120v-720h720v720H120Zm60-500h600v-160H180v160Zm220 220h160v-160H400v160Zm0 220h160v-160H400v160ZM180-400h160v-160H180v160Zm440 0h160v-160H620v160ZM180-180h160v-160H180v160Zm440 0h160v-160H620v160Z\"/>\n",
              "  </svg>\n",
              "    </button>\n",
              "\n",
              "  <style>\n",
              "    .colab-df-container {\n",
              "      display:flex;\n",
              "      gap: 12px;\n",
              "    }\n",
              "\n",
              "    .colab-df-convert {\n",
              "      background-color: #E8F0FE;\n",
              "      border: none;\n",
              "      border-radius: 50%;\n",
              "      cursor: pointer;\n",
              "      display: none;\n",
              "      fill: #1967D2;\n",
              "      height: 32px;\n",
              "      padding: 0 0 0 0;\n",
              "      width: 32px;\n",
              "    }\n",
              "\n",
              "    .colab-df-convert:hover {\n",
              "      background-color: #E2EBFA;\n",
              "      box-shadow: 0px 1px 2px rgba(60, 64, 67, 0.3), 0px 1px 3px 1px rgba(60, 64, 67, 0.15);\n",
              "      fill: #174EA6;\n",
              "    }\n",
              "\n",
              "    .colab-df-buttons div {\n",
              "      margin-bottom: 4px;\n",
              "    }\n",
              "\n",
              "    [theme=dark] .colab-df-convert {\n",
              "      background-color: #3B4455;\n",
              "      fill: #D2E3FC;\n",
              "    }\n",
              "\n",
              "    [theme=dark] .colab-df-convert:hover {\n",
              "      background-color: #434B5C;\n",
              "      box-shadow: 0px 1px 3px 1px rgba(0, 0, 0, 0.15);\n",
              "      filter: drop-shadow(0px 1px 2px rgba(0, 0, 0, 0.3));\n",
              "      fill: #FFFFFF;\n",
              "    }\n",
              "  </style>\n",
              "\n",
              "    <script>\n",
              "      const buttonEl =\n",
              "        document.querySelector('#df-3928ea3d-332e-4a03-9c33-9cd793bb7321 button.colab-df-convert');\n",
              "      buttonEl.style.display =\n",
              "        google.colab.kernel.accessAllowed ? 'block' : 'none';\n",
              "\n",
              "      async function convertToInteractive(key) {\n",
              "        const element = document.querySelector('#df-3928ea3d-332e-4a03-9c33-9cd793bb7321');\n",
              "        const dataTable =\n",
              "          await google.colab.kernel.invokeFunction('convertToInteractive',\n",
              "                                                    [key], {});\n",
              "        if (!dataTable) return;\n",
              "\n",
              "        const docLinkHtml = 'Like what you see? Visit the ' +\n",
              "          '<a target=\"_blank\" href=https://colab.research.google.com/notebooks/data_table.ipynb>data table notebook</a>'\n",
              "          + ' to learn more about interactive tables.';\n",
              "        element.innerHTML = '';\n",
              "        dataTable['output_type'] = 'display_data';\n",
              "        await google.colab.output.renderOutput(dataTable, element);\n",
              "        const docLink = document.createElement('div');\n",
              "        docLink.innerHTML = docLinkHtml;\n",
              "        element.appendChild(docLink);\n",
              "      }\n",
              "    </script>\n",
              "  </div>\n",
              "\n",
              "\n",
              "<div id=\"df-c2b114b3-389a-48b6-9a63-db53962f3450\">\n",
              "  <button class=\"colab-df-quickchart\" onclick=\"quickchart('df-c2b114b3-389a-48b6-9a63-db53962f3450')\"\n",
              "            title=\"Suggest charts\"\n",
              "            style=\"display:none;\">\n",
              "\n",
              "<svg xmlns=\"http://www.w3.org/2000/svg\" height=\"24px\"viewBox=\"0 0 24 24\"\n",
              "     width=\"24px\">\n",
              "    <g>\n",
              "        <path d=\"M19 3H5c-1.1 0-2 .9-2 2v14c0 1.1.9 2 2 2h14c1.1 0 2-.9 2-2V5c0-1.1-.9-2-2-2zM9 17H7v-7h2v7zm4 0h-2V7h2v10zm4 0h-2v-4h2v4z\"/>\n",
              "    </g>\n",
              "</svg>\n",
              "  </button>\n",
              "\n",
              "<style>\n",
              "  .colab-df-quickchart {\n",
              "      --bg-color: #E8F0FE;\n",
              "      --fill-color: #1967D2;\n",
              "      --hover-bg-color: #E2EBFA;\n",
              "      --hover-fill-color: #174EA6;\n",
              "      --disabled-fill-color: #AAA;\n",
              "      --disabled-bg-color: #DDD;\n",
              "  }\n",
              "\n",
              "  [theme=dark] .colab-df-quickchart {\n",
              "      --bg-color: #3B4455;\n",
              "      --fill-color: #D2E3FC;\n",
              "      --hover-bg-color: #434B5C;\n",
              "      --hover-fill-color: #FFFFFF;\n",
              "      --disabled-bg-color: #3B4455;\n",
              "      --disabled-fill-color: #666;\n",
              "  }\n",
              "\n",
              "  .colab-df-quickchart {\n",
              "    background-color: var(--bg-color);\n",
              "    border: none;\n",
              "    border-radius: 50%;\n",
              "    cursor: pointer;\n",
              "    display: none;\n",
              "    fill: var(--fill-color);\n",
              "    height: 32px;\n",
              "    padding: 0;\n",
              "    width: 32px;\n",
              "  }\n",
              "\n",
              "  .colab-df-quickchart:hover {\n",
              "    background-color: var(--hover-bg-color);\n",
              "    box-shadow: 0 1px 2px rgba(60, 64, 67, 0.3), 0 1px 3px 1px rgba(60, 64, 67, 0.15);\n",
              "    fill: var(--button-hover-fill-color);\n",
              "  }\n",
              "\n",
              "  .colab-df-quickchart-complete:disabled,\n",
              "  .colab-df-quickchart-complete:disabled:hover {\n",
              "    background-color: var(--disabled-bg-color);\n",
              "    fill: var(--disabled-fill-color);\n",
              "    box-shadow: none;\n",
              "  }\n",
              "\n",
              "  .colab-df-spinner {\n",
              "    border: 2px solid var(--fill-color);\n",
              "    border-color: transparent;\n",
              "    border-bottom-color: var(--fill-color);\n",
              "    animation:\n",
              "      spin 1s steps(1) infinite;\n",
              "  }\n",
              "\n",
              "  @keyframes spin {\n",
              "    0% {\n",
              "      border-color: transparent;\n",
              "      border-bottom-color: var(--fill-color);\n",
              "      border-left-color: var(--fill-color);\n",
              "    }\n",
              "    20% {\n",
              "      border-color: transparent;\n",
              "      border-left-color: var(--fill-color);\n",
              "      border-top-color: var(--fill-color);\n",
              "    }\n",
              "    30% {\n",
              "      border-color: transparent;\n",
              "      border-left-color: var(--fill-color);\n",
              "      border-top-color: var(--fill-color);\n",
              "      border-right-color: var(--fill-color);\n",
              "    }\n",
              "    40% {\n",
              "      border-color: transparent;\n",
              "      border-right-color: var(--fill-color);\n",
              "      border-top-color: var(--fill-color);\n",
              "    }\n",
              "    60% {\n",
              "      border-color: transparent;\n",
              "      border-right-color: var(--fill-color);\n",
              "    }\n",
              "    80% {\n",
              "      border-color: transparent;\n",
              "      border-right-color: var(--fill-color);\n",
              "      border-bottom-color: var(--fill-color);\n",
              "    }\n",
              "    90% {\n",
              "      border-color: transparent;\n",
              "      border-bottom-color: var(--fill-color);\n",
              "    }\n",
              "  }\n",
              "</style>\n",
              "\n",
              "  <script>\n",
              "    async function quickchart(key) {\n",
              "      const quickchartButtonEl =\n",
              "        document.querySelector('#' + key + ' button');\n",
              "      quickchartButtonEl.disabled = true;  // To prevent multiple clicks.\n",
              "      quickchartButtonEl.classList.add('colab-df-spinner');\n",
              "      try {\n",
              "        const charts = await google.colab.kernel.invokeFunction(\n",
              "            'suggestCharts', [key], {});\n",
              "      } catch (error) {\n",
              "        console.error('Error during call to suggestCharts:', error);\n",
              "      }\n",
              "      quickchartButtonEl.classList.remove('colab-df-spinner');\n",
              "      quickchartButtonEl.classList.add('colab-df-quickchart-complete');\n",
              "    }\n",
              "    (() => {\n",
              "      let quickchartButtonEl =\n",
              "        document.querySelector('#df-c2b114b3-389a-48b6-9a63-db53962f3450 button');\n",
              "      quickchartButtonEl.style.display =\n",
              "        google.colab.kernel.accessAllowed ? 'block' : 'none';\n",
              "    })();\n",
              "  </script>\n",
              "</div>\n",
              "    </div>\n",
              "  </div>\n"
            ],
            "text/plain": [
              "   price  vehicleType  yearOfRegistration  gearbox  powerPS  model  kilometer  \\\n",
              "0   1500            0                2001        0       75      0     150000   \n",
              "1   3600            0                2008        0       69      1      90000   \n",
              "2    650            1                1995        0      102      2     150000   \n",
              "3   2200            2                2004        0      109      3     150000   \n",
              "4      0            1                1980        0       50      4      40000   \n",
              "\n",
              "   fuelType  brand  notRepairedDamage  \n",
              "0         0      0                  0  \n",
              "1         1      1                  0  \n",
              "2         0      2                  1  \n",
              "3         0      3                  0  \n",
              "4         0      0                  0  "
            ]
          },
          "execution_count": 14,
          "metadata": {},
          "output_type": "execute_result"
        }
      ],
      "source": [
        "df = df.reset_index(drop=True)\n",
        "df.head()"
      ]
    },
    {
      "cell_type": "markdown",
      "metadata": {
        "id": "-v8-c3oyaDsr"
      },
      "source": [
        "Проверим, как стали выглядеть исследуемые классы после факторизации."
      ]
    },
    {
      "cell_type": "code",
      "execution_count": 15,
      "metadata": {
        "colab": {
          "base_uri": "https://localhost:8080/",
          "height": 178
        },
        "id": "CBA6bblD1m-V",
        "outputId": "54e83982-844f-4ec0-d160-d1ca563cb55c"
      },
      "outputs": [
        {
          "data": {
            "text/html": [
              "<div>\n",
              "<style scoped>\n",
              "    .dataframe tbody tr th:only-of-type {\n",
              "        vertical-align: middle;\n",
              "    }\n",
              "\n",
              "    .dataframe tbody tr th {\n",
              "        vertical-align: top;\n",
              "    }\n",
              "\n",
              "    .dataframe thead th {\n",
              "        text-align: right;\n",
              "    }\n",
              "</style>\n",
              "<table border=\"1\" class=\"dataframe\">\n",
              "  <thead>\n",
              "    <tr style=\"text-align: right;\">\n",
              "      <th></th>\n",
              "      <th>count</th>\n",
              "    </tr>\n",
              "    <tr>\n",
              "      <th>notRepairedDamage</th>\n",
              "      <th></th>\n",
              "    </tr>\n",
              "  </thead>\n",
              "  <tbody>\n",
              "    <tr>\n",
              "      <th>0</th>\n",
              "      <td>225322</td>\n",
              "    </tr>\n",
              "    <tr>\n",
              "      <th>1</th>\n",
              "      <td>25597</td>\n",
              "    </tr>\n",
              "  </tbody>\n",
              "</table>\n",
              "</div><br><label><b>dtype:</b> int64</label>"
            ],
            "text/plain": [
              "notRepairedDamage\n",
              "0    225322\n",
              "1     25597\n",
              "Name: count, dtype: int64"
            ]
          },
          "execution_count": 15,
          "metadata": {},
          "output_type": "execute_result"
        }
      ],
      "source": [
        "df['notRepairedDamage'].value_counts()"
      ]
    },
    {
      "cell_type": "markdown",
      "metadata": {
        "id": "yGgJ9oJZaZxA"
      },
      "source": [
        "Разобьем весь наш набора данных на тренировочный и тестовый наборы данных."
      ]
    },
    {
      "cell_type": "markdown",
      "metadata": {
        "id": "cGgyfRXPavwc"
      },
      "source": [
        "\n",
        "*Вопрос на подумать:* Какое разбиение можно считать удачным при работе с подобным набором данных?"
      ]
    },
    {
      "cell_type": "code",
      "execution_count": 16,
      "metadata": {
        "id": "jI7QfLLN4sOV"
      },
      "outputs": [],
      "source": [
        "values = df['notRepairedDamage']\n",
        "points = df.drop(['notRepairedDamage'], axis=1)\n",
        "train_points, test_points, train_values, test_values = train_test_split(points, values, test_size = 0.2)"
      ]
    },
    {
      "cell_type": "markdown",
      "metadata": {
        "id": "qqxkvc2nbcLd"
      },
      "source": [
        "Создадим достаточно простенькую модель из 10 решающих деревьев и оценим точность ее работы."
      ]
    },
    {
      "cell_type": "code",
      "execution_count": null,
      "metadata": {
        "colab": {
          "base_uri": "https://localhost:8080/"
        },
        "id": "KvWYb4l04dJz",
        "outputId": "1093860f-9998-4903-d223-a03aecf44e26"
      },
      "outputs": [
        {
          "name": "stdout",
          "output_type": "stream",
          "text": [
            "0.9021002710027101\n"
          ]
        }
      ],
      "source": [
        "rf_model = ensemble.RandomForestClassifier(n_estimators=10)\n",
        "rf_model.fit(train_points, train_values)\n",
        "test_predict_rf = rf_model.predict(test_points)\n",
        "print(accuracy_score(test_values, test_predict_rf))"
      ]
    },
    {
      "cell_type": "markdown",
      "metadata": {
        "id": "2FNHDt2wbzoG"
      },
      "source": [
        "С одной стороны, точность работы классификатора, близкая к 90% - хороший показатель. С другой стороны, не будем забывать о том, что распределение классов в нашем датасете неравномерное. Поэтому проведем сравнение с константным классификатором."
      ]
    },
    {
      "cell_type": "code",
      "execution_count": 18,
      "metadata": {
        "colab": {
          "base_uri": "https://localhost:8080/"
        },
        "id": "o6FEBcZ5QPEK",
        "outputId": "6232a641-b8ce-42f6-eda4-f53539116d9c"
      },
      "outputs": [
        {
          "name": "stdout",
          "output_type": "stream",
          "text": [
            "0.9007452574525745\n"
          ]
        }
      ],
      "source": [
        "print(accuracy_score(test_values, np.zeros_like(test_values)))"
      ]
    },
    {
      "cell_type": "markdown",
      "metadata": {
        "id": "oN7tse9AcYZO"
      },
      "source": [
        "Классификатор, который абсолютно все объекты относит к одному и тому же классу, работает с сопоставимой точностью. В этом и состоит основная сложность работы с несбалансированными наборами данных. Попробуем увеличить количество деревьев в модели."
      ]
    },
    {
      "cell_type": "code",
      "execution_count": 19,
      "metadata": {
        "colab": {
          "base_uri": "https://localhost:8080/"
        },
        "id": "ejIO6rw-7YX7",
        "outputId": "b38e8771-3a98-4eb0-e804-1fb4b3e52a69"
      },
      "outputs": [
        {
          "name": "stdout",
          "output_type": "stream",
          "text": [
            "0.9048900047824008\n"
          ]
        }
      ],
      "source": [
        "rf_model = ensemble.RandomForestClassifier(n_estimators=100)\n",
        "rf_model.fit(train_points, train_values)\n",
        "test_predict_rf = rf_model.predict(test_points)\n",
        "print(accuracy_score(test_values, test_predict_rf))"
      ]
    },
    {
      "cell_type": "markdown",
      "metadata": {
        "id": "9IZCLb3ndOte"
      },
      "source": [
        "Увеличение количества деревьев привело к улучшению результата, но от идеала он по-прежнему далек. В качестве альтернативы попробуем использовать аппарат искусственных нейронных сетей."
      ]
    },
    {
      "cell_type": "code",
      "execution_count": 20,
      "metadata": {
        "colab": {
          "base_uri": "https://localhost:8080/"
        },
        "id": "5f5wsRgb7uUP",
        "outputId": "33114177-f0ff-4d7c-dc5f-982f8d022533"
      },
      "outputs": [
        {
          "name": "stdout",
          "output_type": "stream",
          "text": [
            "Epoch 1/5\n",
            "\u001b[1m201/201\u001b[0m \u001b[32m━━━━━━━━━━━━━━━━━━━━\u001b[0m\u001b[37m\u001b[0m \u001b[1m3s\u001b[0m 5ms/step - accuracy: 0.8079 - loss: 128.6097 - val_accuracy: 0.9004 - val_loss: 13.1049\n",
            "Epoch 2/5\n",
            "\u001b[1m201/201\u001b[0m \u001b[32m━━━━━━━━━━━━━━━━━━━━\u001b[0m\u001b[37m\u001b[0m \u001b[1m1s\u001b[0m 3ms/step - accuracy: 0.8315 - loss: 50.9222 - val_accuracy: 0.9002 - val_loss: 16.5077\n",
            "Epoch 3/5\n",
            "\u001b[1m201/201\u001b[0m \u001b[32m━━━━━━━━━━━━━━━━━━━━\u001b[0m\u001b[37m\u001b[0m \u001b[1m1s\u001b[0m 3ms/step - accuracy: 0.8347 - loss: 13.6321 - val_accuracy: 0.8705 - val_loss: 21.3685\n",
            "Epoch 4/5\n",
            "\u001b[1m201/201\u001b[0m \u001b[32m━━━━━━━━━━━━━━━━━━━━\u001b[0m\u001b[37m\u001b[0m \u001b[1m1s\u001b[0m 3ms/step - accuracy: 0.8330 - loss: 20.6553 - val_accuracy: 0.9007 - val_loss: 12.3147\n",
            "Epoch 5/5\n",
            "\u001b[1m201/201\u001b[0m \u001b[32m━━━━━━━━━━━━━━━━━━━━\u001b[0m\u001b[37m\u001b[0m \u001b[1m1s\u001b[0m 3ms/step - accuracy: 0.8379 - loss: 12.9106 - val_accuracy: 0.8979 - val_loss: 24.3193\n",
            "Test-Accuracy: 0.8354646563529968\n"
          ]
        }
      ],
      "source": [
        "model = models.Sequential()\n",
        "\n",
        "model.add(layers.Dense(9, activation = \"relu\"))\n",
        "\n",
        "model.add(layers.Dense(15, activation = \"relu\"))\n",
        "\n",
        "model.add(layers.Dense(1, activation = \"sigmoid\"))\n",
        "\n",
        "model.compile(\n",
        " optimizer = \"adam\",\n",
        " loss = \"binary_crossentropy\",\n",
        " metrics = [\"accuracy\"]\n",
        ")\n",
        "results = model.fit(\n",
        " train_points, train_values,\n",
        " epochs= 5,\n",
        " batch_size = 1000,\n",
        " validation_data = (test_points, test_values)\n",
        ")\n",
        "print(\"Test-Accuracy:\", np.max(results.history[\"accuracy\"]))"
      ]
    },
    {
      "cell_type": "markdown",
      "metadata": {
        "id": "JN-tK0VAesVn"
      },
      "source": [
        "Данная модель демонстрирует крайнюю неустойчивость, так как при каждом запуске значение точности сильно разнится. Если мы уменьшим количество записей, обрабатываемых между корректировкой весов, то сможем получить более стабильный результат."
      ]
    },
    {
      "cell_type": "code",
      "execution_count": 21,
      "metadata": {
        "colab": {
          "base_uri": "https://localhost:8080/"
        },
        "id": "3kb81uUzfGks",
        "outputId": "0acae7ee-120f-46d2-b2d4-1ea00c2a0a0f"
      },
      "outputs": [
        {
          "name": "stdout",
          "output_type": "stream",
          "text": [
            "Epoch 1/5\n",
            "\u001b[1m2008/2008\u001b[0m \u001b[32m━━━━━━━━━━━━━━━━━━━━\u001b[0m\u001b[37m\u001b[0m \u001b[1m7s\u001b[0m 3ms/step - accuracy: 0.7942 - loss: 408.5898 - val_accuracy: 0.8984 - val_loss: 5.4334\n",
            "Epoch 2/5\n",
            "\u001b[1m2008/2008\u001b[0m \u001b[32m━━━━━━━━━━━━━━━━━━━━\u001b[0m\u001b[37m\u001b[0m \u001b[1m6s\u001b[0m 3ms/step - accuracy: 0.8450 - loss: 45.7881 - val_accuracy: 0.8637 - val_loss: 23.2416\n",
            "Epoch 3/5\n",
            "\u001b[1m2008/2008\u001b[0m \u001b[32m━━━━━━━━━━━━━━━━━━━━\u001b[0m\u001b[37m\u001b[0m \u001b[1m10s\u001b[0m 3ms/step - accuracy: 0.8171 - loss: 86.8012 - val_accuracy: 0.8876 - val_loss: 4.3586\n",
            "Epoch 4/5\n",
            "\u001b[1m2008/2008\u001b[0m \u001b[32m━━━━━━━━━━━━━━━━━━━━\u001b[0m\u001b[37m\u001b[0m \u001b[1m9s\u001b[0m 3ms/step - accuracy: 0.8390 - loss: 112.2983 - val_accuracy: 0.8978 - val_loss: 1.6861\n",
            "Epoch 5/5\n",
            "\u001b[1m2008/2008\u001b[0m \u001b[32m━━━━━━━━━━━━━━━━━━━━\u001b[0m\u001b[37m\u001b[0m \u001b[1m10s\u001b[0m 2ms/step - accuracy: 0.8277 - loss: 4.3607 - val_accuracy: 0.9000 - val_loss: 4.4287\n",
            "Test-Accuracy: 0.835360050201416\n"
          ]
        }
      ],
      "source": [
        "model = models.Sequential()\n",
        "\n",
        "model.add(layers.Dense(9, activation = \"relu\"))\n",
        "\n",
        "model.add(layers.Dense(15, activation = \"relu\"))\n",
        "\n",
        "model.add(layers.Dense(1, activation = \"sigmoid\"))\n",
        "\n",
        "model.compile(\n",
        " optimizer = \"adam\",\n",
        " loss = \"binary_crossentropy\",\n",
        " metrics = [\"accuracy\"]\n",
        ")\n",
        "results = model.fit(\n",
        " train_points, train_values,\n",
        " epochs= 5,\n",
        " batch_size = 100,\n",
        " validation_data = (test_points, test_values)\n",
        ")\n",
        "print(\"Test-Accuracy:\", np.max(results.history[\"accuracy\"]))"
      ]
    },
    {
      "cell_type": "markdown",
      "metadata": {
        "id": "oaueJE4lfwJW"
      },
      "source": [
        "Для окончательного закрепления результата увеличим количество эпох обучения до 10, чтобы кривая обучения успевала сходиться."
      ]
    },
    {
      "cell_type": "code",
      "execution_count": 22,
      "metadata": {
        "colab": {
          "base_uri": "https://localhost:8080/"
        },
        "id": "o2hhm2U3dh7a",
        "outputId": "de77ea4b-a571-4444-db6a-db8024fdfd52"
      },
      "outputs": [
        {
          "name": "stdout",
          "output_type": "stream",
          "text": [
            "Epoch 1/10\n",
            "\u001b[1m2008/2008\u001b[0m \u001b[32m━━━━━━━━━━━━━━━━━━━━\u001b[0m\u001b[37m\u001b[0m \u001b[1m10s\u001b[0m 4ms/step - accuracy: 0.8243 - loss: 143.9112 - val_accuracy: 0.8983 - val_loss: 2.9921\n",
            "Epoch 2/10\n",
            "\u001b[1m2008/2008\u001b[0m \u001b[32m━━━━━━━━━━━━━━━━━━━━\u001b[0m\u001b[37m\u001b[0m \u001b[1m7s\u001b[0m 2ms/step - accuracy: 0.8310 - loss: 36.2172 - val_accuracy: 0.9007 - val_loss: 1.9176\n",
            "Epoch 3/10\n",
            "\u001b[1m2008/2008\u001b[0m \u001b[32m━━━━━━━━━━━━━━━━━━━━\u001b[0m\u001b[37m\u001b[0m \u001b[1m7s\u001b[0m 3ms/step - accuracy: 0.8368 - loss: 11.6808 - val_accuracy: 0.9007 - val_loss: 3.5600\n",
            "Epoch 4/10\n",
            "\u001b[1m2008/2008\u001b[0m \u001b[32m━━━━━━━━━━━━━━━━━━━━\u001b[0m\u001b[37m\u001b[0m \u001b[1m9s\u001b[0m 3ms/step - accuracy: 0.8392 - loss: 3.4365 - val_accuracy: 0.8943 - val_loss: 30.3945\n",
            "Epoch 5/10\n",
            "\u001b[1m2008/2008\u001b[0m \u001b[32m━━━━━━━━━━━━━━━━━━━━\u001b[0m\u001b[37m\u001b[0m \u001b[1m6s\u001b[0m 3ms/step - accuracy: 0.8876 - loss: 11.5601 - val_accuracy: 0.8584 - val_loss: 0.4262\n",
            "Epoch 6/10\n",
            "\u001b[1m2008/2008\u001b[0m \u001b[32m━━━━━━━━━━━━━━━━━━━━\u001b[0m\u001b[37m\u001b[0m \u001b[1m5s\u001b[0m 3ms/step - accuracy: 0.8874 - loss: 19.2114 - val_accuracy: 0.9007 - val_loss: 0.3687\n",
            "Epoch 7/10\n",
            "\u001b[1m2008/2008\u001b[0m \u001b[32m━━━━━━━━━━━━━━━━━━━━\u001b[0m\u001b[37m\u001b[0m \u001b[1m10s\u001b[0m 3ms/step - accuracy: 0.8976 - loss: 7.0220 - val_accuracy: 0.9007 - val_loss: 0.3496\n",
            "Epoch 8/10\n",
            "\u001b[1m2008/2008\u001b[0m \u001b[32m━━━━━━━━━━━━━━━━━━━━\u001b[0m\u001b[37m\u001b[0m \u001b[1m8s\u001b[0m 4ms/step - accuracy: 0.8970 - loss: 6.1282 - val_accuracy: 0.9007 - val_loss: 0.3279\n",
            "Epoch 9/10\n",
            "\u001b[1m2008/2008\u001b[0m \u001b[32m━━━━━━━━━━━━━━━━━━━━\u001b[0m\u001b[37m\u001b[0m \u001b[1m5s\u001b[0m 3ms/step - accuracy: 0.8968 - loss: 17.8255 - val_accuracy: 0.8992 - val_loss: 0.3489\n",
            "Epoch 10/10\n",
            "\u001b[1m2008/2008\u001b[0m \u001b[32m━━━━━━━━━━━━━━━━━━━━\u001b[0m\u001b[37m\u001b[0m \u001b[1m5s\u001b[0m 3ms/step - accuracy: 0.8970 - loss: 3.6808 - val_accuracy: 0.8997 - val_loss: 9.9295\n",
            "Test-Accuracy: 0.8971081376075745\n"
          ]
        }
      ],
      "source": [
        "model = models.Sequential()\n",
        "\n",
        "model.add(layers.Dense(9, activation = \"relu\"))\n",
        "\n",
        "model.add(layers.Dense(15, activation = \"relu\"))\n",
        "\n",
        "model.add(layers.Dense(1, activation = \"sigmoid\"))\n",
        "\n",
        "model.compile(\n",
        " optimizer = \"adam\",\n",
        " loss = \"binary_crossentropy\",\n",
        " metrics = [\"accuracy\"]\n",
        ")\n",
        "results = model.fit(\n",
        " train_points, train_values,\n",
        " epochs= 10,\n",
        " batch_size = 100,\n",
        " validation_data = (test_points, test_values)\n",
        ")\n",
        "print(\"Test-Accuracy:\", np.max(results.history[\"accuracy\"]))"
      ]
    },
    {
      "cell_type": "markdown",
      "metadata": {
        "id": "4-f-lTiQgZtp"
      },
      "source": [
        "Попробуем ввести дополнительный скрытый слой в сеть, чтобы упростить задачу классификации выходному слою нейронов."
      ]
    },
    {
      "cell_type": "code",
      "execution_count": 23,
      "metadata": {
        "colab": {
          "base_uri": "https://localhost:8080/"
        },
        "id": "4xqrTDg_dhyq",
        "outputId": "cd031da0-a54f-4ed5-aefb-edba26ad8679"
      },
      "outputs": [
        {
          "name": "stdout",
          "output_type": "stream",
          "text": [
            "Epoch 1/10\n",
            "\u001b[1m2008/2008\u001b[0m \u001b[32m━━━━━━━━━━━━━━━━━━━━\u001b[0m\u001b[37m\u001b[0m \u001b[1m8s\u001b[0m 3ms/step - accuracy: 0.7931 - loss: 198.9348 - val_accuracy: 0.8986 - val_loss: 1.5993\n",
            "Epoch 2/10\n",
            "\u001b[1m2008/2008\u001b[0m \u001b[32m━━━━━━━━━━━━━━━━━━━━\u001b[0m\u001b[37m\u001b[0m \u001b[1m10s\u001b[0m 3ms/step - accuracy: 0.8399 - loss: 27.7849 - val_accuracy: 0.8993 - val_loss: 4.1491\n",
            "Epoch 3/10\n",
            "\u001b[1m2008/2008\u001b[0m \u001b[32m━━━━━━━━━━━━━━━━━━━━\u001b[0m\u001b[37m\u001b[0m \u001b[1m10s\u001b[0m 3ms/step - accuracy: 0.8385 - loss: 7.6395 - val_accuracy: 0.9001 - val_loss: 2.8067\n",
            "Epoch 4/10\n",
            "\u001b[1m2008/2008\u001b[0m \u001b[32m━━━━━━━━━━━━━━━━━━━━\u001b[0m\u001b[37m\u001b[0m \u001b[1m11s\u001b[0m 3ms/step - accuracy: 0.8379 - loss: 3.0901 - val_accuracy: 0.8941 - val_loss: 0.5924\n",
            "Epoch 5/10\n",
            "\u001b[1m2008/2008\u001b[0m \u001b[32m━━━━━━━━━━━━━━━━━━━━\u001b[0m\u001b[37m\u001b[0m \u001b[1m5s\u001b[0m 3ms/step - accuracy: 0.8337 - loss: 3.2505 - val_accuracy: 0.8992 - val_loss: 1.2410\n",
            "Epoch 6/10\n",
            "\u001b[1m2008/2008\u001b[0m \u001b[32m━━━━━━━━━━━━━━━━━━━━\u001b[0m\u001b[37m\u001b[0m \u001b[1m7s\u001b[0m 3ms/step - accuracy: 0.8366 - loss: 2.6228 - val_accuracy: 0.9000 - val_loss: 1.3574\n",
            "Epoch 7/10\n",
            "\u001b[1m2008/2008\u001b[0m \u001b[32m━━━━━━━━━━━━━━━━━━━━\u001b[0m\u001b[37m\u001b[0m \u001b[1m9s\u001b[0m 3ms/step - accuracy: 0.8337 - loss: 2.4559 - val_accuracy: 0.6157 - val_loss: 1.3575\n",
            "Epoch 8/10\n",
            "\u001b[1m2008/2008\u001b[0m \u001b[32m━━━━━━━━━━━━━━━━━━━━\u001b[0m\u001b[37m\u001b[0m \u001b[1m10s\u001b[0m 3ms/step - accuracy: 0.8320 - loss: 2.2667 - val_accuracy: 0.9007 - val_loss: 6.7431\n",
            "Epoch 9/10\n",
            "\u001b[1m2008/2008\u001b[0m \u001b[32m━━━━━━━━━━━━━━━━━━━━\u001b[0m\u001b[37m\u001b[0m \u001b[1m7s\u001b[0m 3ms/step - accuracy: 0.8356 - loss: 1.8666 - val_accuracy: 0.9008 - val_loss: 1.2712\n",
            "Epoch 10/10\n",
            "\u001b[1m2008/2008\u001b[0m \u001b[32m━━━━━━━━━━━━━━━━━━━━\u001b[0m\u001b[37m\u001b[0m \u001b[1m9s\u001b[0m 3ms/step - accuracy: 0.8425 - loss: 1.1173 - val_accuracy: 0.8998 - val_loss: 0.3500\n",
            "Test-Accuracy: 0.8428126573562622\n"
          ]
        }
      ],
      "source": [
        "model = models.Sequential()\n",
        "\n",
        "model.add(layers.Dense(10, activation = \"relu\"))\n",
        "\n",
        "model.add(layers.Dense(15, activation = \"relu\"))\n",
        "\n",
        "model.add(layers.Dense(8, activation = \"relu\"))\n",
        "\n",
        "model.add(layers.Dense(1, activation = \"sigmoid\"))\n",
        "\n",
        "model.compile(\n",
        " optimizer = \"adam\",\n",
        " loss = \"binary_crossentropy\",\n",
        " metrics = [\"accuracy\"]\n",
        ")\n",
        "results = model.fit(\n",
        " train_points, train_values,\n",
        " epochs= 10,\n",
        " batch_size = 100,\n",
        " validation_data = (test_points, test_values)\n",
        ")\n",
        "print(\"Test-Accuracy:\", np.max(results.history[\"accuracy\"]))"
      ]
    },
    {
      "cell_type": "markdown",
      "metadata": {
        "id": "R9w7Jxx2hIzB"
      },
      "source": [
        "Благодаря уменьшению количества нейронов на предпоследнем слое, нейронная сеть смогла с большей точностью определять ключевые компоненты и учитывать их при вынесении вердикта о принадлежности объекта тому или иному классу."
      ]
    },
    {
      "cell_type": "markdown",
      "metadata": {
        "id": "MjRgUTG5irC0"
      },
      "source": [
        "Кроме работы непосредственно с моделями и их составляющими, можно попробовать преобразовать данные для их лучшей интерпретируемости системой. В данном случае, поле года выпуска автомобиля имеет плохую форму распределения."
      ]
    },
    {
      "cell_type": "code",
      "execution_count": 81,
      "metadata": {
        "colab": {
          "base_uri": "https://localhost:8080/",
          "height": 448
        },
        "id": "qzgg6ygKdhQW",
        "outputId": "7fb8e3d8-e10a-4c53-b489-7bcf53b28edb"
      },
      "outputs": [
        {
          "data": {
            "text/plain": [
              "<Axes: >"
            ]
          },
          "execution_count": 81,
          "metadata": {},
          "output_type": "execute_result"
        },
        {
          "data": {
            "image/png": "[encoded data removed]",
            "text/plain": [
              "<Figure size 640x480 with 1 Axes>"
            ]
          },
          "metadata": {},
          "output_type": "display_data"
        }
      ],
      "source": [
        "df['yearOfRegistration'].hist()"
      ]
    },
    {
      "cell_type": "markdown",
      "metadata": {
        "id": "5d27dScijYee"
      },
      "source": [
        "Введем вместо него поле с возрастом."
      ]
    },
    {
      "cell_type": "code",
      "execution_count": 82,
      "metadata": {
        "colab": {
          "base_uri": "https://localhost:8080/",
          "height": 206
        },
        "id": "9plQxUKWdhJM",
        "outputId": "1aa5578b-8206-40dc-a2dc-58b7ca336276"
      },
      "outputs": [
        {
          "data": {
            "application/vnd.google.colaboratory.intrinsic+json": {
              "type": "dataframe",
              "variable_name": "df"
            },
            "text/html": [
              "\n",
              "  <div id=\"df-ad47d9d4-48fe-4a48-b46b-51c5bf97eb87\" class=\"colab-df-container\">\n",
              "    <div>\n",
              "<style scoped>\n",
              "    .dataframe tbody tr th:only-of-type {\n",
              "        vertical-align: middle;\n",
              "    }\n",
              "\n",
              "    .dataframe tbody tr th {\n",
              "        vertical-align: top;\n",
              "    }\n",
              "\n",
              "    .dataframe thead th {\n",
              "        text-align: right;\n",
              "    }\n",
              "</style>\n",
              "<table border=\"1\" class=\"dataframe\">\n",
              "  <thead>\n",
              "    <tr style=\"text-align: right;\">\n",
              "      <th></th>\n",
              "      <th>price</th>\n",
              "      <th>vehicleType</th>\n",
              "      <th>gearbox</th>\n",
              "      <th>powerPS</th>\n",
              "      <th>model</th>\n",
              "      <th>kilometer</th>\n",
              "      <th>fuelType</th>\n",
              "      <th>brand</th>\n",
              "      <th>notRepairedDamage</th>\n",
              "      <th>age</th>\n",
              "    </tr>\n",
              "  </thead>\n",
              "  <tbody>\n",
              "    <tr>\n",
              "      <th>0</th>\n",
              "      <td>1500</td>\n",
              "      <td>0</td>\n",
              "      <td>0</td>\n",
              "      <td>75</td>\n",
              "      <td>0</td>\n",
              "      <td>150000</td>\n",
              "      <td>0</td>\n",
              "      <td>0</td>\n",
              "      <td>0</td>\n",
              "      <td>19</td>\n",
              "    </tr>\n",
              "    <tr>\n",
              "      <th>1</th>\n",
              "      <td>3600</td>\n",
              "      <td>0</td>\n",
              "      <td>0</td>\n",
              "      <td>69</td>\n",
              "      <td>1</td>\n",
              "      <td>90000</td>\n",
              "      <td>1</td>\n",
              "      <td>1</td>\n",
              "      <td>0</td>\n",
              "      <td>12</td>\n",
              "    </tr>\n",
              "    <tr>\n",
              "      <th>2</th>\n",
              "      <td>650</td>\n",
              "      <td>1</td>\n",
              "      <td>0</td>\n",
              "      <td>102</td>\n",
              "      <td>2</td>\n",
              "      <td>150000</td>\n",
              "      <td>0</td>\n",
              "      <td>2</td>\n",
              "      <td>1</td>\n",
              "      <td>25</td>\n",
              "    </tr>\n",
              "    <tr>\n",
              "      <th>3</th>\n",
              "      <td>2200</td>\n",
              "      <td>2</td>\n",
              "      <td>0</td>\n",
              "      <td>109</td>\n",
              "      <td>3</td>\n",
              "      <td>150000</td>\n",
              "      <td>0</td>\n",
              "      <td>3</td>\n",
              "      <td>0</td>\n",
              "      <td>16</td>\n",
              "    </tr>\n",
              "    <tr>\n",
              "      <th>4</th>\n",
              "      <td>0</td>\n",
              "      <td>1</td>\n",
              "      <td>0</td>\n",
              "      <td>50</td>\n",
              "      <td>4</td>\n",
              "      <td>40000</td>\n",
              "      <td>0</td>\n",
              "      <td>0</td>\n",
              "      <td>0</td>\n",
              "      <td>40</td>\n",
              "    </tr>\n",
              "  </tbody>\n",
              "</table>\n",
              "</div>\n",
              "    <div class=\"colab-df-buttons\">\n",
              "\n",
              "  <div class=\"colab-df-container\">\n",
              "    <button class=\"colab-df-convert\" onclick=\"convertToInteractive('df-ad47d9d4-48fe-4a48-b46b-51c5bf97eb87')\"\n",
              "            title=\"Convert this dataframe to an interactive table.\"\n",
              "            style=\"display:none;\">\n",
              "\n",
              "  <svg xmlns=\"http://www.w3.org/2000/svg\" height=\"24px\" viewBox=\"0 -960 960 960\">\n",
              "    <path d=\"M120-120v-720h720v720H120Zm60-500h600v-160H180v160Zm220 220h160v-160H400v160Zm0 220h160v-160H400v160ZM180-400h160v-160H180v160Zm440 0h160v-160H620v160ZM180-180h160v-160H180v160Zm440 0h160v-160H620v160Z\"/>\n",
              "  </svg>\n",
              "    </button>\n",
              "\n",
              "  <style>\n",
              "    .colab-df-container {\n",
              "      display:flex;\n",
              "      gap: 12px;\n",
              "    }\n",
              "\n",
              "    .colab-df-convert {\n",
              "      background-color: #E8F0FE;\n",
              "      border: none;\n",
              "      border-radius: 50%;\n",
              "      cursor: pointer;\n",
              "      display: none;\n",
              "      fill: #1967D2;\n",
              "      height: 32px;\n",
              "      padding: 0 0 0 0;\n",
              "      width: 32px;\n",
              "    }\n",
              "\n",
              "    .colab-df-convert:hover {\n",
              "      background-color: #E2EBFA;\n",
              "      box-shadow: 0px 1px 2px rgba(60, 64, 67, 0.3), 0px 1px 3px 1px rgba(60, 64, 67, 0.15);\n",
              "      fill: #174EA6;\n",
              "    }\n",
              "\n",
              "    .colab-df-buttons div {\n",
              "      margin-bottom: 4px;\n",
              "    }\n",
              "\n",
              "    [theme=dark] .colab-df-convert {\n",
              "      background-color: #3B4455;\n",
              "      fill: #D2E3FC;\n",
              "    }\n",
              "\n",
              "    [theme=dark] .colab-df-convert:hover {\n",
              "      background-color: #434B5C;\n",
              "      box-shadow: 0px 1px 3px 1px rgba(0, 0, 0, 0.15);\n",
              "      filter: drop-shadow(0px 1px 2px rgba(0, 0, 0, 0.3));\n",
              "      fill: #FFFFFF;\n",
              "    }\n",
              "  </style>\n",
              "\n",
              "    <script>\n",
              "      const buttonEl =\n",
              "        document.querySelector('#df-ad47d9d4-48fe-4a48-b46b-51c5bf97eb87 button.colab-df-convert');\n",
              "      buttonEl.style.display =\n",
              "        google.colab.kernel.accessAllowed ? 'block' : 'none';\n",
              "\n",
              "      async function convertToInteractive(key) {\n",
              "        const element = document.querySelector('#df-ad47d9d4-48fe-4a48-b46b-51c5bf97eb87');\n",
              "        const dataTable =\n",
              "          await google.colab.kernel.invokeFunction('convertToInteractive',\n",
              "                                                    [key], {});\n",
              "        if (!dataTable) return;\n",
              "\n",
              "        const docLinkHtml = 'Like what you see? Visit the ' +\n",
              "          '<a target=\"_blank\" href=https://colab.research.google.com/notebooks/data_table.ipynb>data table notebook</a>'\n",
              "          + ' to learn more about interactive tables.';\n",
              "        element.innerHTML = '';\n",
              "        dataTable['output_type'] = 'display_data';\n",
              "        await google.colab.output.renderOutput(dataTable, element);\n",
              "        const docLink = document.createElement('div');\n",
              "        docLink.innerHTML = docLinkHtml;\n",
              "        element.appendChild(docLink);\n",
              "      }\n",
              "    </script>\n",
              "  </div>\n",
              "\n",
              "\n",
              "<div id=\"df-b4b94b59-9e26-4de0-afdc-feb231a95741\">\n",
              "  <button class=\"colab-df-quickchart\" onclick=\"quickchart('df-b4b94b59-9e26-4de0-afdc-feb231a95741')\"\n",
              "            title=\"Suggest charts\"\n",
              "            style=\"display:none;\">\n",
              "\n",
              "<svg xmlns=\"http://www.w3.org/2000/svg\" height=\"24px\"viewBox=\"0 0 24 24\"\n",
              "     width=\"24px\">\n",
              "    <g>\n",
              "        <path d=\"M19 3H5c-1.1 0-2 .9-2 2v14c0 1.1.9 2 2 2h14c1.1 0 2-.9 2-2V5c0-1.1-.9-2-2-2zM9 17H7v-7h2v7zm4 0h-2V7h2v10zm4 0h-2v-4h2v4z\"/>\n",
              "    </g>\n",
              "</svg>\n",
              "  </button>\n",
              "\n",
              "<style>\n",
              "  .colab-df-quickchart {\n",
              "      --bg-color: #E8F0FE;\n",
              "      --fill-color: #1967D2;\n",
              "      --hover-bg-color: #E2EBFA;\n",
              "      --hover-fill-color: #174EA6;\n",
              "      --disabled-fill-color: #AAA;\n",
              "      --disabled-bg-color: #DDD;\n",
              "  }\n",
              "\n",
              "  [theme=dark] .colab-df-quickchart {\n",
              "      --bg-color: #3B4455;\n",
              "      --fill-color: #D2E3FC;\n",
              "      --hover-bg-color: #434B5C;\n",
              "      --hover-fill-color: #FFFFFF;\n",
              "      --disabled-bg-color: #3B4455;\n",
              "      --disabled-fill-color: #666;\n",
              "  }\n",
              "\n",
              "  .colab-df-quickchart {\n",
              "    background-color: var(--bg-color);\n",
              "    border: none;\n",
              "    border-radius: 50%;\n",
              "    cursor: pointer;\n",
              "    display: none;\n",
              "    fill: var(--fill-color);\n",
              "    height: 32px;\n",
              "    padding: 0;\n",
              "    width: 32px;\n",
              "  }\n",
              "\n",
              "  .colab-df-quickchart:hover {\n",
              "    background-color: var(--hover-bg-color);\n",
              "    box-shadow: 0 1px 2px rgba(60, 64, 67, 0.3), 0 1px 3px 1px rgba(60, 64, 67, 0.15);\n",
              "    fill: var(--button-hover-fill-color);\n",
              "  }\n",
              "\n",
              "  .colab-df-quickchart-complete:disabled,\n",
              "  .colab-df-quickchart-complete:disabled:hover {\n",
              "    background-color: var(--disabled-bg-color);\n",
              "    fill: var(--disabled-fill-color);\n",
              "    box-shadow: none;\n",
              "  }\n",
              "\n",
              "  .colab-df-spinner {\n",
              "    border: 2px solid var(--fill-color);\n",
              "    border-color: transparent;\n",
              "    border-bottom-color: var(--fill-color);\n",
              "    animation:\n",
              "      spin 1s steps(1) infinite;\n",
              "  }\n",
              "\n",
              "  @keyframes spin {\n",
              "    0% {\n",
              "      border-color: transparent;\n",
              "      border-bottom-color: var(--fill-color);\n",
              "      border-left-color: var(--fill-color);\n",
              "    }\n",
              "    20% {\n",
              "      border-color: transparent;\n",
              "      border-left-color: var(--fill-color);\n",
              "      border-top-color: var(--fill-color);\n",
              "    }\n",
              "    30% {\n",
              "      border-color: transparent;\n",
              "      border-left-color: var(--fill-color);\n",
              "      border-top-color: var(--fill-color);\n",
              "      border-right-color: var(--fill-color);\n",
              "    }\n",
              "    40% {\n",
              "      border-color: transparent;\n",
              "      border-right-color: var(--fill-color);\n",
              "      border-top-color: var(--fill-color);\n",
              "    }\n",
              "    60% {\n",
              "      border-color: transparent;\n",
              "      border-right-color: var(--fill-color);\n",
              "    }\n",
              "    80% {\n",
              "      border-color: transparent;\n",
              "      border-right-color: var(--fill-color);\n",
              "      border-bottom-color: var(--fill-color);\n",
              "    }\n",
              "    90% {\n",
              "      border-color: transparent;\n",
              "      border-bottom-color: var(--fill-color);\n",
              "    }\n",
              "  }\n",
              "</style>\n",
              "\n",
              "  <script>\n",
              "    async function quickchart(key) {\n",
              "      const quickchartButtonEl =\n",
              "        document.querySelector('#' + key + ' button');\n",
              "      quickchartButtonEl.disabled = true;  // To prevent multiple clicks.\n",
              "      quickchartButtonEl.classList.add('colab-df-spinner');\n",
              "      try {\n",
              "        const charts = await google.colab.kernel.invokeFunction(\n",
              "            'suggestCharts', [key], {});\n",
              "      } catch (error) {\n",
              "        console.error('Error during call to suggestCharts:', error);\n",
              "      }\n",
              "      quickchartButtonEl.classList.remove('colab-df-spinner');\n",
              "      quickchartButtonEl.classList.add('colab-df-quickchart-complete');\n",
              "    }\n",
              "    (() => {\n",
              "      let quickchartButtonEl =\n",
              "        document.querySelector('#df-b4b94b59-9e26-4de0-afdc-feb231a95741 button');\n",
              "      quickchartButtonEl.style.display =\n",
              "        google.colab.kernel.accessAllowed ? 'block' : 'none';\n",
              "    })();\n",
              "  </script>\n",
              "</div>\n",
              "    </div>\n",
              "  </div>\n"
            ],
            "text/plain": [
              "   price  vehicleType  gearbox  powerPS  model  kilometer  fuelType  brand  \\\n",
              "0   1500            0        0       75      0     150000         0      0   \n",
              "1   3600            0        0       69      1      90000         1      1   \n",
              "2    650            1        0      102      2     150000         0      2   \n",
              "3   2200            2        0      109      3     150000         0      3   \n",
              "4      0            1        0       50      4      40000         0      0   \n",
              "\n",
              "   notRepairedDamage  age  \n",
              "0                  0   19  \n",
              "1                  0   12  \n",
              "2                  1   25  \n",
              "3                  0   16  \n",
              "4                  0   40  "
            ]
          },
          "execution_count": 82,
          "metadata": {},
          "output_type": "execute_result"
        }
      ],
      "source": [
        "df['age'] = 2020 - df['yearOfRegistration']\n",
        "del df['yearOfRegistration']\n",
        "df.head()"
      ]
    },
    {
      "cell_type": "code",
      "execution_count": 83,
      "metadata": {
        "id": "cvNWddQTdhCW"
      },
      "outputs": [],
      "source": [
        "values = df['notRepairedDamage']\n",
        "points = df.drop(['notRepairedDamage'], axis=1)\n",
        "train_points, test_points, train_values, test_values = train_test_split(points, values, test_size = 0.2)"
      ]
    },
    {
      "cell_type": "code",
      "execution_count": 84,
      "metadata": {
        "colab": {
          "base_uri": "https://localhost:8080/"
        },
        "id": "UeObLAhddg7b",
        "outputId": "d30cd02a-d62f-487d-9f91-da07b9888b7d"
      },
      "outputs": [
        {
          "name": "stdout",
          "output_type": "stream",
          "text": [
            "0.9040331579786386\n"
          ]
        }
      ],
      "source": [
        "rf_model = ensemble.RandomForestClassifier(n_estimators=100)\n",
        "rf_model.fit(train_points, train_values)\n",
        "test_predict_rf = rf_model.predict(test_points)\n",
        "print(accuracy_score(test_values, test_predict_rf))"
      ]
    },
    {
      "cell_type": "code",
      "execution_count": 85,
      "metadata": {
        "colab": {
          "base_uri": "https://localhost:8080/"
        },
        "id": "WoAvXQMadg1C",
        "outputId": "51a359cf-3b22-45ae-da13-42c3edbe05a5"
      },
      "outputs": [
        {
          "name": "stdout",
          "output_type": "stream",
          "text": [
            "Epoch 1/10\n",
            "\u001b[1m2008/2008\u001b[0m \u001b[32m━━━━━━━━━━━━━━━━━━━━\u001b[0m\u001b[37m\u001b[0m \u001b[1m8s\u001b[0m 3ms/step - accuracy: 0.8326 - loss: 73.0144 - val_accuracy: 0.8961 - val_loss: 44.4679\n",
            "Epoch 2/10\n",
            "\u001b[1m2008/2008\u001b[0m \u001b[32m━━━━━━━━━━━━━━━━━━━━\u001b[0m\u001b[37m\u001b[0m \u001b[1m6s\u001b[0m 3ms/step - accuracy: 0.8319 - loss: 13.8584 - val_accuracy: 0.8961 - val_loss: 70.5837\n",
            "Epoch 3/10\n",
            "\u001b[1m2008/2008\u001b[0m \u001b[32m━━━━━━━━━━━━━━━━━━━━\u001b[0m\u001b[37m\u001b[0m \u001b[1m10s\u001b[0m 3ms/step - accuracy: 0.8334 - loss: 10.2520 - val_accuracy: 0.8962 - val_loss: 98.1911\n",
            "Epoch 4/10\n",
            "\u001b[1m2008/2008\u001b[0m \u001b[32m━━━━━━━━━━━━━━━━━━━━\u001b[0m\u001b[37m\u001b[0m \u001b[1m7s\u001b[0m 4ms/step - accuracy: 0.8321 - loss: 7.5256 - val_accuracy: 0.6030 - val_loss: 15.5008\n",
            "Epoch 5/10\n",
            "\u001b[1m2008/2008\u001b[0m \u001b[32m━━━━━━━━━━━━━━━━━━━━\u001b[0m\u001b[37m\u001b[0m \u001b[1m9s\u001b[0m 3ms/step - accuracy: 0.8310 - loss: 5.1677 - val_accuracy: 0.8919 - val_loss: 23.9337\n",
            "Epoch 6/10\n",
            "\u001b[1m2008/2008\u001b[0m \u001b[32m━━━━━━━━━━━━━━━━━━━━\u001b[0m\u001b[37m\u001b[0m \u001b[1m10s\u001b[0m 3ms/step - accuracy: 0.8388 - loss: 2.4520 - val_accuracy: 0.8962 - val_loss: 13.6072\n",
            "Epoch 7/10\n",
            "\u001b[1m2008/2008\u001b[0m \u001b[32m━━━━━━━━━━━━━━━━━━━━\u001b[0m\u001b[37m\u001b[0m \u001b[1m10s\u001b[0m 3ms/step - accuracy: 0.8393 - loss: 1.8243 - val_accuracy: 0.8890 - val_loss: 65.2012\n",
            "Epoch 8/10\n",
            "\u001b[1m2008/2008\u001b[0m \u001b[32m━━━━━━━━━━━━━━━━━━━━\u001b[0m\u001b[37m\u001b[0m \u001b[1m11s\u001b[0m 3ms/step - accuracy: 0.8765 - loss: 0.6354 - val_accuracy: 0.8868 - val_loss: 59.9537\n",
            "Epoch 9/10\n",
            "\u001b[1m2008/2008\u001b[0m \u001b[32m━━━━━━━━━━━━━━━━━━━━\u001b[0m\u001b[37m\u001b[0m \u001b[1m11s\u001b[0m 4ms/step - accuracy: 0.8744 - loss: 0.8800 - val_accuracy: 0.8962 - val_loss: 52.1063\n",
            "Epoch 10/10\n",
            "\u001b[1m2008/2008\u001b[0m \u001b[32m━━━━━━━━━━━━━━━━━━━━\u001b[0m\u001b[37m\u001b[0m \u001b[1m8s\u001b[0m 3ms/step - accuracy: 0.8812 - loss: 0.5305 - val_accuracy: 0.8958 - val_loss: 18.2740\n",
            "Test-Accuracy: 0.8839713931083679\n"
          ]
        }
      ],
      "source": [
        "model = models.Sequential()\n",
        "\n",
        "model.add(layers.Dense(9, activation = \"relu\"))\n",
        "\n",
        "model.add(layers.Dense(15, activation = \"relu\"))\n",
        "\n",
        "model.add(layers.Dense(8, activation = \"relu\"))\n",
        "\n",
        "model.add(layers.Dense(1, activation = \"sigmoid\"))\n",
        "\n",
        "model.compile(\n",
        " optimizer = \"adam\",\n",
        " loss = \"binary_crossentropy\",\n",
        " metrics = [\"accuracy\"]\n",
        ")\n",
        "results = model.fit(\n",
        " train_points, train_values,\n",
        " epochs= 10,\n",
        " batch_size = 100,\n",
        " validation_data = (test_points, test_values)\n",
        ")\n",
        "print(\"Test-Accuracy:\", np.max(results.history[\"accuracy\"]))"
      ]
    },
    {
      "cell_type": "markdown",
      "metadata": {
        "id": "cxnUB-WVlwi4"
      },
      "source": [
        "Для обеих моделей мы получили увеличение точности. Попробуем пойти еще немного дальше, объединив два поля в одно. Такой подход называют уменьшением размерности, так как он позволяет работать с входным вектором меньшего размера."
      ]
    },
    {
      "cell_type": "code",
      "execution_count": 86,
      "metadata": {
        "id": "K0CDYsr27uRK"
      },
      "outputs": [],
      "source": [
        "df['intence'] = df['kilometer']/df['age']\n",
        "del df['kilometer']\n",
        "del df['age']"
      ]
    },
    {
      "cell_type": "code",
      "execution_count": 87,
      "metadata": {
        "id": "hSqD64_b7uAB"
      },
      "outputs": [],
      "source": [
        "values = df['notRepairedDamage']\n",
        "points = df.drop(['notRepairedDamage'], axis=1)\n",
        "train_points, test_points, train_values, test_values = train_test_split(points, values, test_size = 0.2)"
      ]
    },
    {
      "cell_type": "code",
      "execution_count": 88,
      "metadata": {
        "colab": {
          "base_uri": "https://localhost:8080/"
        },
        "id": "uNZe4mtKmF6s",
        "outputId": "ce3a1586-e6a4-467e-d992-631feb3cc416"
      },
      "outputs": [
        {
          "name": "stdout",
          "output_type": "stream",
          "text": [
            "0.9025984377490833\n"
          ]
        }
      ],
      "source": [
        "rf_model = ensemble.RandomForestClassifier(n_estimators=100)\n",
        "rf_model.fit(train_points, train_values)\n",
        "test_predict_rf = rf_model.predict(test_points)\n",
        "print(accuracy_score(test_values, test_predict_rf))"
      ]
    },
    {
      "cell_type": "code",
      "execution_count": 89,
      "metadata": {
        "colab": {
          "base_uri": "https://localhost:8080/"
        },
        "id": "shdOPk4-mFyY",
        "outputId": "a15640f6-6b58-49e3-b04e-712a45bd5964"
      },
      "outputs": [
        {
          "name": "stdout",
          "output_type": "stream",
          "text": [
            "Epoch 1/10\n",
            "\u001b[1m2008/2008\u001b[0m \u001b[32m━━━━━━━━━━━━━━━━━━━━\u001b[0m\u001b[37m\u001b[0m \u001b[1m7s\u001b[0m 3ms/step - accuracy: 0.8045 - loss: 31.0766 - val_accuracy: 0.8955 - val_loss: 0.5835\n",
            "Epoch 2/10\n",
            "\u001b[1m2008/2008\u001b[0m \u001b[32m━━━━━━━━━━━━━━━━━━━━\u001b[0m\u001b[37m\u001b[0m \u001b[1m11s\u001b[0m 3ms/step - accuracy: 0.8481 - loss: 6.3717 - val_accuracy: 0.8968 - val_loss: 0.7634\n",
            "Epoch 3/10\n",
            "\u001b[1m2008/2008\u001b[0m \u001b[32m━━━━━━━━━━━━━━━━━━━━\u001b[0m\u001b[37m\u001b[0m \u001b[1m7s\u001b[0m 4ms/step - accuracy: 0.8502 - loss: 16.7091 - val_accuracy: 0.8951 - val_loss: 1.4587\n",
            "Epoch 4/10\n",
            "\u001b[1m2008/2008\u001b[0m \u001b[32m━━━━━━━━━━━━━━━━━━━━\u001b[0m\u001b[37m\u001b[0m \u001b[1m5s\u001b[0m 3ms/step - accuracy: 0.8570 - loss: 8.3101 - val_accuracy: 0.7708 - val_loss: 3.0389\n",
            "Epoch 5/10\n",
            "\u001b[1m2008/2008\u001b[0m \u001b[32m━━━━━━━━━━━━━━━━━━━━\u001b[0m\u001b[37m\u001b[0m \u001b[1m7s\u001b[0m 3ms/step - accuracy: 0.8484 - loss: 49.7620 - val_accuracy: 0.8955 - val_loss: 0.4785\n",
            "Epoch 6/10\n",
            "\u001b[1m2008/2008\u001b[0m \u001b[32m━━━━━━━━━━━━━━━━━━━━\u001b[0m\u001b[37m\u001b[0m \u001b[1m10s\u001b[0m 3ms/step - accuracy: 0.8476 - loss: 14.3267 - val_accuracy: 0.8970 - val_loss: 0.9552\n",
            "Epoch 7/10\n",
            "\u001b[1m2008/2008\u001b[0m \u001b[32m━━━━━━━━━━━━━━━━━━━━\u001b[0m\u001b[37m\u001b[0m \u001b[1m10s\u001b[0m 3ms/step - accuracy: 0.8551 - loss: 12.9841 - val_accuracy: 0.8806 - val_loss: 7.0372\n",
            "Epoch 8/10\n",
            "\u001b[1m2008/2008\u001b[0m \u001b[32m━━━━━━━━━━━━━━━━━━━━\u001b[0m\u001b[37m\u001b[0m \u001b[1m7s\u001b[0m 3ms/step - accuracy: 0.8476 - loss: 41.0874 - val_accuracy: 0.8621 - val_loss: 1.1330\n",
            "Epoch 9/10\n",
            "\u001b[1m2008/2008\u001b[0m \u001b[32m━━━━━━━━━━━━━━━━━━━━\u001b[0m\u001b[37m\u001b[0m \u001b[1m6s\u001b[0m 3ms/step - accuracy: 0.8451 - loss: 73.4159 - val_accuracy: 0.8760 - val_loss: 5.4370\n",
            "Epoch 10/10\n",
            "\u001b[1m2008/2008\u001b[0m \u001b[32m━━━━━━━━━━━━━━━━━━━━\u001b[0m\u001b[37m\u001b[0m \u001b[1m12s\u001b[0m 3ms/step - accuracy: 0.8751 - loss: 14.7636 - val_accuracy: 0.8934 - val_loss: 1.4810\n",
            "Test-Accuracy: 0.8744065761566162\n"
          ]
        }
      ],
      "source": [
        "model = models.Sequential()\n",
        "\n",
        "model.add(layers.Dense(8, activation = \"relu\"))\n",
        "\n",
        "model.add(layers.Dense(15, activation = \"relu\"))\n",
        "\n",
        "model.add(layers.Dense(8, activation = \"relu\"))\n",
        "\n",
        "model.add(layers.Dense(1, activation = \"sigmoid\"))\n",
        "\n",
        "model.compile(\n",
        " optimizer = \"adam\",\n",
        " loss = \"binary_crossentropy\",\n",
        " metrics = [\"accuracy\"]\n",
        ")\n",
        "results = model.fit(\n",
        " train_points, train_values,\n",
        " epochs= 10,\n",
        " batch_size = 100,\n",
        " validation_data = (test_points, test_values)\n",
        ")\n",
        "print(\"Test-Accuracy:\", np.max(results.history[\"accuracy\"]))"
      ]
    },
    {
      "cell_type": "markdown",
      "metadata": {
        "id": "qn-4fZI-m3yS"
      },
      "source": [
        "Уменьшение размерности нашего входного вектора не привело к улучшению общей картины. Не всегда одни и те же шаги приводят к одному и тому же результату. Из-за специфики датасета действенность метода может очень сильно варьироваться."
      ]
    },
    {
      "cell_type": "markdown",
      "metadata": {
        "id": "YZQUmVgOnalf"
      },
      "source": [
        "## Построение бинарного классификатора (Практическая часть)"
      ]
    },
    {
      "cell_type": "markdown",
      "metadata": {
        "id": "01nFGsPmVw9G"
      },
      "source": [
        "Вашим заданием в данной лабораторной будет построение бинарного классификатора для предсказания возможного ухода клиента из банка. Задание основано на следующем датасете https://www.kaggle.com/datasets/willianoliveiragibin/bank-churn-prediction?resource=download."
      ]
    },
    {
      "cell_type": "markdown",
      "metadata": {
        "id": "AlNM3laPWw0p"
      },
      "source": [
        "Ниже приведены инструкции для загрузки тренировочной  (разделение ее на обучающую и тестовую части остается на усмотрение исполнителя) и валидационной части датасета. Валидационная часть не участвует в обучении, только в получении итоговой оценки."
      ]
    },
    {
      "cell_type": "code",
      "execution_count": 90,
      "metadata": {
        "id": "R_nXpbl_XVKr"
      },
      "outputs": [],
      "source": [
        "%%capture\n",
        "!wget -O bank_train.csv https://www.dropbox.com/scl/fi/rz8xmydm1h3bpgjjm30jd/bank_train.csv?rlkey=rylj5xs1icbfokyabtnqo5gdv&dl=0\n",
        "!wget -O bank_valid.csv https://www.dropbox.com/scl/fi/05p2v6pw76tjf7c21rcyb/bank_valid.csv?rlkey=ifbgda9mj7ybbgl2txnzjq9g1&dl=0"
      ]
    },
    {
      "cell_type": "markdown",
      "metadata": {
        "id": "b8iO0Hgdo9g1"
      },
      "source": [
        "Оценка полученного решения складывается из двух факторов:\n",
        "\n",
        "1. Значение метрики Accuracy.\n",
        "2. Общее время, которое потребовалось модели для предсказания всех меток из валидационного датасета."
      ]
    }
  ],
  "metadata": {
    "colab": {
      "provenance": []
    },
    "kernelspec": {
      "display_name": "Python 3",
      "language": "python",
      "name": "python3"
    },
    "language_info": {
      "codemirror_mode": {
        "name": "ipython",
        "version": 3
      },
      "file_extension": ".py",
      "mimetype": "text/x-python",
      "name": "python",
      "nbconvert_exporter": "python",
      "pygments_lexer": "ipython3",
      "version": "3.6.5"
    }
  },
  "nbformat": 4,
  "nbformat_minor": 0
}
